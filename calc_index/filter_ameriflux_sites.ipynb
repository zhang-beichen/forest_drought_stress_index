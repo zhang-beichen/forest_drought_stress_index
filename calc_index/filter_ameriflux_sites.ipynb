{
 "cells": [
  {
   "cell_type": "code",
   "execution_count": 61,
   "metadata": {},
   "outputs": [],
   "source": [
    "import numpy as np\n",
    "import pandas as pd\n",
    "import geopandas as gpd\n",
    "from shapely.geometry import Point"
   ]
  },
  {
   "cell_type": "code",
   "execution_count": 4,
   "metadata": {},
   "outputs": [],
   "source": [
    "df_sites = pd.read_csv(\"/work/tadesse/beichen/ForDRI/Data/All_AmeriFlex_Data/AmeriFlux_Public_Site_Info.tsv\",delimiter='\\t')"
   ]
  },
  {
   "cell_type": "code",
   "execution_count": 34,
   "metadata": {},
   "outputs": [
    {
     "name": "stdout",
     "output_type": "stream",
     "text": [
      "['Site ID' 'Name' 'Principal Investigator' 'Data Use Policy'\n",
      " 'AmeriFlux BASE Data' 'AmeriFlux FLUXNET Data'\n",
      " 'Vegetation Abbreviation (IGBP)' 'Vegetation Description (IGBP)'\n",
      " 'Climate Class Abbreviation (Koeppen)'\n",
      " 'Climate Class Description (Koeppen)' 'Mean Average Precipitation (mm)'\n",
      " 'Mean Average Temperature (degrees C)' 'Country' 'Latitude (degrees)'\n",
      " 'Longitude (degrees)' 'Elevation (m)' 'Years of AmeriFlux BASE Data'\n",
      " 'AmeriFlux BASE DOI' 'Years of AmeriFlux FLUXNET Data'\n",
      " 'AmeriFlux FLUXNET DOI' 'Site Start' 'Site End'\n",
      " 'BASE variables available' 'FLUXNET variables available' 'State']\n"
     ]
    }
   ],
   "source": [
    "# we need to know the column information\n",
    "print(df_sites.columns.values)"
   ]
  },
  {
   "cell_type": "code",
   "execution_count": 95,
   "metadata": {},
   "outputs": [
    {
     "data": {
      "text/plain": [
       "array(['CRO', 'GRA', 'WET', 'DNF', 'WSA', 'EBF', 'MF', 'ENF', 'DBF',\n",
       "       'OSH', 'WAT', 'CSH', 'URB', 'BSV', 'CVM', 'SAV', 'SNO'],\n",
       "      dtype=object)"
      ]
     },
     "execution_count": 95,
     "metadata": {},
     "output_type": "execute_result"
    }
   ],
   "source": [
    "# another necessary information\n",
    "df_sites.loc[:,\"Vegetation Abbreviation (IGBP)\"].unique()"
   ]
  },
  {
   "cell_type": "code",
   "execution_count": 148,
   "metadata": {},
   "outputs": [
    {
     "data": {
      "text/plain": [
       "array(['Croplands: Lands covered with temporary crops followed by harvest and a bare soil period (e.g., single and multiple cropping systems). Note that perennial woody crops will be classified as the appropriate forest or shrub land cover type.',\n",
       "       'Grasslands: Lands with herbaceous types of cover. Tree and shrub cover is less than 10%. Permanent wetlands lands with a permanent mixture of water and herbaceous or woody vegetation. The vegetation can be present in either salt, brackish, or fresh water.',\n",
       "       'Permanent Wetlands: Lands with a permanent mixture of water and herbaceous or woody vegetation that cover extensive areas. The vegetation can be present in either salt, brackish, or fresh water',\n",
       "       'Deciduous Needleleaf Forests: Lands dominated by woody vegetation with a percent cover >60% and height exceeding 2 meters.  Consists of seasonal needleleaf tree communities with an annual cycle of leaf-on and leaf-off periods.',\n",
       "       'Woody Savannas: Lands with herbaceous and other understory systems, and with forest canopy cover between 30-60%. The forest cover height exceeds 2 meters.',\n",
       "       'Evergreen Broadleaf Forests: Lands dominated by woody vegetation with a percent cover >60% and height exceeding 2 meters. Almost all trees and shrubs remain green year round. Canopy is never without green foliage.',\n",
       "       'Mixed Forests: Lands dominated by trees with a percent cover >60% and height exceeding 2 meters.  Consists of tree communities with interspersed mixtures or mosaics of the other four forest types.  None of the forest types exceeds 60% of landscape.',\n",
       "       'Evergreen Needleleaf Forests: Lands dominated by woody vegetation with a percent cover >60% and height exceeding 2 meters. Almost all trees remain green all year. Canopy is never without green foliage.',\n",
       "       'Deciduous Broadleaf Forests: Lands dominated by woody vegetation with a percent cover >60% and height exceeding 2 meters.  Consists of broadleaf tree communities with an annual cycle of leaf-on and leaf-off periods.',\n",
       "       'Open Shrublands: Lands with woody vegetation less than 2 meters tall and with shrub canopy cover between 10-60%. The shrub foliage can be either evergreen or deciduous.',\n",
       "       'Water Bodies : Oceans, seas, lakes, reservoirs, and rivers. Can be either fresh or salt- water bodies.',\n",
       "       'Closed Shrublands: Lands with woody vegetation less than 2 meters tall and with shrub canopy cover >60%. The shrub foliage can be either evergreen or deciduous.',\n",
       "       'Urban and Built-Up Lands: Land covered by buildings and other man-made structures.',\n",
       "       'Barren Sparse Vegetation: Lands exposed soil, sand, or rocks and has less than 10% vegetative cover during any time of the year.',\n",
       "       'Cropland/Natural Vegetation Mosaics: Lands with a mosaic of croplands, forest, shrublands, and grasslands in which no one component comprises more than 60% of the landscape',\n",
       "       'Savannas: Lands with herbaceous and other understory systems, and with forest canopy cover between 10-30%. The forest cover height exceeds 2 meters.',\n",
       "       'Snow and Ice: Lands under snow/ice cover most of the year. '],\n",
       "      dtype=object)"
      ]
     },
     "execution_count": 148,
     "metadata": {},
     "output_type": "execute_result"
    }
   ],
   "source": [
    "# another necessary information\n",
    "df_sites.loc[:,\"Vegetation Description (IGBP)\"].unique()\n",
    "# we might want:\n",
    "# Deciduous Needleleaf Forests (DNF)\n",
    "# Woody Savannas (WSA)\n",
    "# Evergreen Broadleaf Forests (EBF)\n",
    "# Mixed Forests (MF)\n",
    "# Evergreen Needleleaf Forests (ENF)\n",
    "# Deciduous Broadleaf Forests (DBF)\n",
    "# Open Shrublands (OSH)\n",
    "# Closed Shrublands (CSH)"
   ]
  },
  {
   "cell_type": "code",
   "execution_count": 30,
   "metadata": {},
   "outputs": [],
   "source": [
    "shp = gpd.read_file(\"/work/tadesse/beichen/ForDRI/Data/Shapefiles/tl_2020_us_state/tl_2020_us_state.shp\")"
   ]
  },
  {
   "cell_type": "code",
   "execution_count": 31,
   "metadata": {},
   "outputs": [],
   "source": [
    "state_name = shp.NAME.values"
   ]
  },
  {
   "cell_type": "code",
   "execution_count": 32,
   "metadata": {},
   "outputs": [],
   "source": [
    "df_sites[\"State\"] = \"NotInUSA\"\n",
    "for idx, r in df_sites.iterrows():\n",
    "    p = Point(r.loc[\"Longitude (degrees)\"],r.loc[\"Latitude (degrees)\"])\n",
    "    state_arr = p.within(shp.geometry).values\n",
    "    if state_arr.sum() == 1:\n",
    "        sname = state_name[state_arr]\n",
    "        df_sites.loc[idx,\"State\"] = sname\n",
    "    else:\n",
    "        continue"
   ]
  },
  {
   "cell_type": "code",
   "execution_count": 149,
   "metadata": {},
   "outputs": [],
   "source": [
    "# do a filter for each state\n",
    "# sites in the us and has the records after 2003 and till now.\n",
    "df_sites_filtered = pd.DataFrame(columns=df_sites.columns,index=state_name)\n",
    "for s in state_name:\n",
    "    df_sites_state = df_sites.loc[(df_sites.State==s)&\n",
    "                                  (df_sites.loc[:,\"AmeriFlux BASE Data\"]==\"Yes\")&\n",
    "                                  (df_sites.loc[:,\"Data Use Policy\"]==\"CC-BY-4.0\"),:] # we need Aermix Flux Base Data\n",
    "    \n",
    "    # first rule\n",
    "    # the site should be in a forest area\n",
    "    # Vegetation Description (IGBP) includes Forests\n",
    "    if df_sites_state.shape[0] > 1:\n",
    "        df_sites_state_forest = df_sites_state.loc[[r in [\"DNF\",\"WSA\",\"EBF\",\"MF\",\"ENF\",\"DBF\",\"OSH\",\"CSH\"] \\\n",
    "                                                    for c in df_sites_state.loc[:,\"Vegetation Abbreviation (IGBP)\"] \\\n",
    "                                                    for r in c.split(\" \")],:]\n",
    "    else:\n",
    "        df_sites_state_forest = df_sites_state.loc[[c in [\"DNF\",\"WSA\",\"EBF\",\"MF\",\"ENF\",\"DBF\",\"OSH\",\"CSH\"] \\\n",
    "                                                    for c in df_sites_state.loc[:,\"Vegetation Abbreviation (IGBP)\"]],:]\n",
    "    if df_sites_state_forest.shape[0] != 0:\n",
    "        # second rule\n",
    "        # Years of AmeriFlux BASE Data, last year should be larger than 2003\n",
    "        # counting the number of years\n",
    "        year_count = [sum(np.asarray(list(map(int, r)))>2003) for r in df_sites_state_forest.loc[:,\"Years of AmeriFlux BASE Data\"].str.split(', ')]\n",
    "        df_sites_filtered.loc[s,:]=df_sites_state_forest.iloc[np.argsort(year_count)[-1],:].values\n"
   ]
  },
  {
   "cell_type": "code",
   "execution_count": 150,
   "metadata": {},
   "outputs": [],
   "source": [
    "df_US_forest_AmeriFlux = df_sites_filtered.dropna(subset=\"Site ID\",axis=0).sort_index()"
   ]
  },
  {
   "cell_type": "code",
   "execution_count": 151,
   "metadata": {},
   "outputs": [],
   "source": [
    "df_US_forest_AmeriFlux.to_csv(\"/work/tadesse/beichen/ForDRI/Data/New_Bowen_Ratio/Filtered_AmeriFlux_Sites.csv\")"
   ]
  },
  {
   "cell_type": "code",
   "execution_count": null,
   "metadata": {},
   "outputs": [],
   "source": []
  }
 ],
 "metadata": {
  "kernelspec": {
   "display_name": "Python 3",
   "language": "python",
   "name": "python3"
  },
  "language_info": {
   "codemirror_mode": {
    "name": "ipython",
    "version": 3
   },
   "file_extension": ".py",
   "mimetype": "text/x-python",
   "name": "python",
   "nbconvert_exporter": "python",
   "pygments_lexer": "ipython3",
   "version": "3.9.18"
  }
 },
 "nbformat": 4,
 "nbformat_minor": 2
}
