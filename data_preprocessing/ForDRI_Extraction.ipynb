{
 "cells": [
  {
   "cell_type": "code",
   "execution_count": null,
   "id": "60c6d3e7-bfaf-4884-a4bc-53bcffac23a1",
   "metadata": {},
   "outputs": [],
   "source": [
    "import rasterio\n",
    "from datetime import datetime\n",
    "import geopandas as gpd\n",
    "from glob import glob\n",
    "import pandas as pd\n",
    "import os"
   ]
  },
  {
   "cell_type": "code",
   "execution_count": null,
   "id": "5d8ee5fd-6ce5-40c0-bae8-70aa27ae0754",
   "metadata": {},
   "outputs": [],
   "source": [
    "fordri_dir = \"/work/tadesse/beichen/ForDRI/Data/Op_ForDRI/\"\n",
    "fordri_flist = glob(fordri_dir+\"*.tif\")\n",
    "fordri_flist.sort()"
   ]
  },
  {
   "attachments": {},
   "cell_type": "markdown",
   "id": "826730db-60f4-4f9e-b55a-f9e5b7039832",
   "metadata": {},
   "source": [
    "## Extract ForDRI values at tree-ring sites in the US"
   ]
  },
  {
   "cell_type": "code",
   "execution_count": 66,
   "id": "e49ff3ed-0882-4496-8dcb-4b64cc95a64f",
   "metadata": {},
   "outputs": [],
   "source": [
    "# western US\n",
    "west_tr_shp_dir = \"/work/tadesse/beichen/ForDRI/Data/Shapefiles/Tree_site_info_overlapped_7yrs_westernUS.shp\"\n",
    "west_tr_shp = gpd.read_file(west_tr_shp_dir)\n",
    "west_tr_shp = west_tr_shp[['Collection','Northernmo', 'Westernmos']] # latitude and longitude\n",
    "west_tr_shp.index = range(len(west_tr_shp))\n",
    "west_tr_coords = [(x,y) for x, y in zip(west_tr_shp.Westernmos,west_tr_shp.Northernmo)]  # longitude and latitude"
   ]
  },
  {
   "cell_type": "code",
   "execution_count": 67,
   "id": "d86fd562-11c3-4ad7-b963-dae035916bea",
   "metadata": {},
   "outputs": [],
   "source": [
    "# eastern US\n",
    "east_tr_shp_dir = \"/work/tadesse/beichen/ForDRI/Data/Shapefiles/Tree_site_info_overlapped_7yrs_easternUS.shp\"\n",
    "east_tr_shp = gpd.read_file(east_tr_shp_dir)\n",
    "east_tr_shp = east_tr_shp.drop_duplicates() # drop diplicates\n",
    "# east_tr_shp = east_tr_shp.loc[east_tr_shp['Collection']!='AR078',:]\n",
    "east_tr_shp = east_tr_shp[['Collection','Northernmo', 'Westernmos']]\n",
    "east_tr_shp.index = range(len(east_tr_shp))\n",
    "east_tr_coords = [(x,y) for x, y in zip(east_tr_shp.Westernmos,east_tr_shp.Northernmo)]"
   ]
  },
  {
   "cell_type": "code",
   "execution_count": null,
   "id": "3ece1468-f3d8-4a24-b1bc-6e738e0860e8",
   "metadata": {},
   "outputs": [],
   "source": [
    "# extracting ForDRI at the tree ring sites\n",
    "for fordri in fordri_flist:\n",
    "    ts = os.path.basename(fordri).split(\"_\")[1][:-4]\n",
    "    ts_week = datetime.strptime(ts,\"%Y%m%d\").strftime(\"%Y%W\")\n",
    "    with rasterio.open(fordri) as src:\n",
    "        west_tr_shp[ts_week] = [x[0] for x in src.sample(west_tr_coords)]\n",
    "        east_tr_shp[ts_week] = [x[0] for x in src.sample(east_tr_coords)]"
   ]
  },
  {
   "cell_type": "code",
   "execution_count": 70,
   "id": "e5ed167b-58dc-4b95-8495-7ac86feff892",
   "metadata": {},
   "outputs": [],
   "source": [
    "west_tr_shp.to_csv(\"/work/tadesse/beichen/ForDRI/Data/Tree_Ring_Data/NEW_tree_ring_sites_fordri_westernUS.csv\", index=None)\n",
    "east_tr_shp.to_csv(\"/work/tadesse/beichen/ForDRI/Data/Tree_Ring_Data/NEW_tree_ring_sites_fordri_easternUS.csv\", index=None)"
   ]
  },
  {
   "attachments": {},
   "cell_type": "markdown",
   "id": "fd2f67c2-31cf-40a1-8789-6051c63d28c8",
   "metadata": {},
   "source": [
    "## Extract ForDRI values at Bowen Ratio (AmeriFlux) sites in the US"
   ]
  },
  {
   "cell_type": "code",
   "execution_count": 61,
   "id": "350caba4-3834-4f5f-8709-316bd10eadcc",
   "metadata": {},
   "outputs": [],
   "source": [
    "br_dir =\"/work/tadesse/beichen/ForDRI/Data/Shapefiles/Filtered_AmeriFlux_Sites.shp\"\n",
    "br_shp = gpd.read_file(br_dir)\n",
    "br_shp = br_shp[['Site ID','Latitude (','Longitude']]\n",
    "br_shp.columns=[\"SiteID\",\"Lat\",\"Long\"]\n",
    "br_shp.index = range(len(br_shp))\n",
    "br_coords = [(x,y) for x, y in zip(br_shp.Long,br_shp.Lat)]"
   ]
  },
  {
   "cell_type": "code",
   "execution_count": null,
   "id": "1806446d-8847-432f-88a0-061161fddaad",
   "metadata": {},
   "outputs": [],
   "source": [
    "# extracting ForDRI at the AmeriFlux sites\n",
    "for fordri in fordri_flist:\n",
    "    ts = os.path.basename(fordri).split(\"_\")[1][:-4]\n",
    "    ts_week = datetime.strptime(ts,\"%Y%m%d\").strftime(\"%Y%W\")\n",
    "    with rasterio.open(fordri) as src:\n",
    "        br_shp[ts_week] = [x[0] for x in src.sample(br_coords)]"
   ]
  },
  {
   "cell_type": "code",
   "execution_count": 65,
   "id": "dc466aec-1126-4089-9740-8fc09559a589",
   "metadata": {},
   "outputs": [],
   "source": [
    "br_shp.to_csv(\"/work/tadesse/beichen/ForDRI/Data/New_Bowen_Ratio/ameriflux_sites_fordri_US.csv\", index=None)"
   ]
  },
  {
   "cell_type": "code",
   "execution_count": null,
   "id": "db598964-2d29-495c-a58d-bbdcfca8ad75",
   "metadata": {},
   "outputs": [],
   "source": [
    "stdbr_dir = \"/work/tadesse/beichen/ForDRI/Data/New_Bowen_Ratio/Bowen_Ratio/\"\n",
    "stdbr_list = glob(stdbr_dir+\"*.csv\")\n",
    "stdbr_list.sort()\n",
    "for stdbr in stdbr_list:\n",
    "    fname = os.path.basename(stdbr)\n",
    "    df = pd.read_csv(stdbr,index_col=0)\n",
    "    start = df.index[0]\n",
    "    end = df.index[-1]\n",
    "    print(start,end)\n",
    "    if start < 200301:\n",
    "        start = 200301\n",
    "    if end > 202352:\n",
    "        end = 202352\n",
    "    df = df.loc[200301:202352,:]\n",
    "    df.to_csv(\"/work/tadesse/beichen/ForDRI/Data/New_Bowen_Ratio/ForDRI_stdBR/\"+fname)\n",
    "    "
   ]
  },
  {
   "cell_type": "code",
   "execution_count": null,
   "id": "df77ca8b",
   "metadata": {},
   "outputs": [],
   "source": []
  }
 ],
 "metadata": {
  "kernelspec": {
   "display_name": "mywork",
   "language": "python",
   "name": "python3"
  },
  "language_info": {
   "codemirror_mode": {
    "name": "ipython",
    "version": 3
   },
   "file_extension": ".py",
   "mimetype": "text/x-python",
   "name": "python",
   "nbconvert_exporter": "python",
   "pygments_lexer": "ipython3",
   "version": "3.9.18"
  },
  "vscode": {
   "interpreter": {
    "hash": "f7fce67f7bf81c6c01801418c0740e5ed8883a3338285553951947b9d9952603"
   }
  }
 },
 "nbformat": 4,
 "nbformat_minor": 5
}
