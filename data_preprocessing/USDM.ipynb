{
 "cells": [
  {
   "cell_type": "code",
   "execution_count": 39,
   "metadata": {},
   "outputs": [],
   "source": [
    "import osr\n",
    "import gdal\n",
    "from gdalconst import GA_ReadOnly\n",
    "import os\n",
    "import glob\n",
    "import matplotlib.pyplot as plt\n",
    "from datetime import datetime\n",
    "import rasterio as rio\n",
    "from rasterio.warp import calculate_default_transform, reproject, Resampling"
   ]
  },
  {
   "cell_type": "code",
   "execution_count": 30,
   "metadata": {},
   "outputs": [],
   "source": [
    "# usdm file directory\n",
    "usdm_dir = \"R:\\\\UnitedStates\\\\ForDRI_project-NEW\\\\USDM_Evaluation_2023\\\\USDM\"\n",
    "# iterating through all file into a list\n",
    "usdm_list = []\n",
    "for subdir, dir, files in os.walk(usdm_dir):\n",
    "    for file in files:\n",
    "        if file[-3:]==\"img\":\n",
    "            dir_path = os.path.join(subdir, file)\n",
    "            if os.path.isfile(dir_path):\n",
    "                usdm_list.append(dir_path)\n",
    "                \n",
    "# another way to do it\n",
    "# usdm_list = [f for f in glob.iglob(usdm_dir+\"\\\\*\\\\*.img\",recursive=True) if os.path.isfile(f)]\n",
    "\n",
    "usdm_list.sort()"
   ]
  },
  {
   "cell_type": "code",
   "execution_count": null,
   "metadata": {},
   "outputs": [],
   "source": [
    "'''\n",
    "works so slow\n",
    "\n",
    "dst_crs = 'EPSG:4326' # target projection\n",
    "odir = \"R:\\\\UnitedStates\\\\ForDRI_project-NEW\\\\USDM_Evaluation_2023\\\\USDM_rpj\\\\\"\n",
    "for usdm in usdm_list:\n",
    "    fname = os.path.basename(usdm)\n",
    "    doy = datetime.strptime(fname.split(\"_\")[1],\"%Y%m%d\").strftime(\"%Y%j\")\n",
    "    woy = int(doy[-3:])//7\n",
    "    if woy < 10:\n",
    "        woy_str = '0'+str(woy)\n",
    "    else:\n",
    "        woy_str = str(woy)\n",
    "    new_name = \"USDM_\"+ doy[:4]+woy_str+\".tif\"\n",
    "    with rio.open(usdm) as src:\n",
    "        transform, width, height = calculate_default_transform(\n",
    "            src.crs, dst_crs, src.width, src.height, *src.bounds)\n",
    "        kwargs = src.meta.copy()\n",
    "        kwargs.update({\n",
    "            'crs': dst_crs,\n",
    "            'transform': transform,\n",
    "            'width': width,\n",
    "            'height': height\n",
    "        })\n",
    "        with rio.open(odir+new_name, 'w', **kwargs) as dst:\n",
    "            reproject(\n",
    "                source=rio.band(src, 1),\n",
    "                destination=rio.band(dst, 1),\n",
    "                src_transform=src.transform,\n",
    "                src_crs=src.crs,\n",
    "                dst_transform=transform,\n",
    "                dst_crs=dst_crs,\n",
    "                resampling=Resampling.nearest)\n",
    "        \n",
    "    print(new_name)\n",
    "'''\n"
   ]
  },
  {
   "cell_type": "code",
   "execution_count": 32,
   "metadata": {},
   "outputs": [],
   "source": [
    "ds = gdal.Open('R:\\\\UnitedStates\\\\ForDRI_project-NEW\\\\New_Model_2022\\\\ForDRI\\\\ForDRI\\\\ForDRI_200301.tif',GA_ReadOnly)# your mask raster\n",
    "proj = ds.GetProjectionRef()\n",
    "geot = ds.GetGeoTransform()\n",
    "minx = geot[0]\n",
    "maxy = geot[3]\n",
    "maxx = minx + geot[1] * ds.RasterXSize\n",
    "miny = maxy + geot[5] * ds.RasterYSize"
   ]
  },
  {
   "cell_type": "code",
   "execution_count": null,
   "metadata": {},
   "outputs": [],
   "source": [
    "odir_rpj = \"R:\\\\UnitedStates\\\\ForDRI_project-NEW\\\\USDM_Evaluation_2023\\\\USDM_rpj\\\\\"\n",
    "\n",
    "for f in usdm_list:\n",
    "    fname = os.path.basename(f)\n",
    "    doy = datetime.strptime(fname.split(\"_\")[1],\"%Y%m%d\").strftime(\"%Y%j\")\n",
    "    woy = int(doy[-3:])//7\n",
    "    if woy < 10:\n",
    "        woy_str = '0'+str(woy)\n",
    "    else:\n",
    "        woy_str = str(woy)\n",
    "    new_name = \"USDM_\"+ doy[:4]+woy_str+\".tif\"\n",
    "    \n",
    "    data_toreprj = gdal.Open(f, GA_ReadOnly) # data to reproject\n",
    "    gdal.Warp(odir_rpj+new_name, data_toreprj,format='GTiff',outputBounds=[-125.0, 50.0, -67.0, 24.0],resampleAlg=\"near\",dstNodata=-9999,dstSRS=proj)\n",
    "    \n",
    "    print(fname)"
   ]
  },
  {
   "attachments": {},
   "cell_type": "markdown",
   "metadata": {},
   "source": [
    "I don't know why the data are still now shown correctly in QGIS and Python, but can be visualized in ArcMap.\n",
    "\n",
    "So I'm going to read the data and export it to geotiff again.\n",
    "\n",
    "At the same time, correct the name..."
   ]
  },
  {
   "cell_type": "code",
   "execution_count": null,
   "metadata": {},
   "outputs": [],
   "source": [
    "# rename file\n",
    "ds = gdal.Open(\"R:\\\\UnitedStates\\\\ForDRI_project-NEW\\\\USDM_Evaluation_2023\\\\USDM_rpj\\\\USDM_200301.tif\")\n",
    "ds_arr = ds.ReadAsArray()\n",
    "ds_geot = ds.GetGeoTransform()\n",
    "src = osr.SpatialReference()\n",
    "src.ImportFromEPSG(4326)\n",
    "ds_proj = src.ExportToWkt()\n",
    "for i in range(2003,2023):\n",
    "    usdm_prj_tif_list = glob.glob(\"R:\\\\UnitedStates\\\\ForDRI_project-NEW\\\\USDM_Evaluation_2023\\\\USDM_rpj\\\\USDM_\"+str(i)+\"*.tif\")\n",
    "    usdm_prj_tif_list.sort()\n",
    "    if usdm_prj_tif_list[0].split(\"\\\\\")[-1][-6:-4]==\"00\":\n",
    "        print(usdm_prj_tif_list[0])\n",
    "        for usdm_prj_tif in usdm_prj_tif_list:\n",
    "            fname = os.path.basename(usdm_prj_tif)\n",
    "            week = int(fname[-6:-4])+1\n",
    "            if week < 10:\n",
    "                week_str = \"0\" + str(week)\n",
    "            else:\n",
    "                week_str = str(week)\n",
    "            new_name = str(i)+week_str+\".tif\"\n",
    "            \n",
    "            ds = gdal.Open(usdm_prj_tif)\n",
    "            ds_arr = ds.ReadAsArray()\n",
    "            driver = gdal.GetDriverByName(\"GTiff\")\n",
    "            rows, cols = ds_arr.shape\n",
    "            dst_ds = driver.Create(\"R:\\\\UnitedStates\\\\ForDRI_project-NEW\\\\USDM_Evaluation_2023\\\\USDM_\"+new_name, cols, rows, 1, gdal.GDT_Int16)\n",
    "            dst_ds.SetGeoTransform(ds_geot)\n",
    "            dst_ds.SetProjection(ds_proj)\n",
    "            \n",
    "            dst_ds_band = dst_ds.GetRasterBand(1)\n",
    "            dst_ds_band.SetNoDataValue(-9999)\n",
    "            dst_ds_band.WriteArray(ds_arr)\n",
    "            print(new_name)\n",
    "            del dst_ds\n",
    "    else:\n",
    "        for usdm_prj_tif in usdm_prj_tif_list:\n",
    "            fname = os.path.basename(usdm_prj_tif)\n",
    "            ds = gdal.Open(usdm_prj_tif)\n",
    "            ds_arr = ds.ReadAsArray()\n",
    "            driver = gdal.GetDriverByName(\"GTiff\")\n",
    "            rows, cols = ds_arr.shape\n",
    "            dst_ds = driver.Create(\"R:\\\\UnitedStates\\\\ForDRI_project-NEW\\\\USDM_Evaluation_2023\\\\\"+fname, cols, rows, 1, gdal.GDT_Int16)\n",
    "            dst_ds.SetGeoTransform(ds_geot)\n",
    "            dst_ds.SetProjection(ds_proj)\n",
    "            \n",
    "            dst_ds_band = dst_ds.GetRasterBand(1)\n",
    "            dst_ds_band.SetNoDataValue(-9999)\n",
    "            dst_ds_band.WriteArray(ds_arr)\n",
    "            print(fname)\n",
    "            del dst_ds"
   ]
  },
  {
   "cell_type": "code",
   "execution_count": 20,
   "metadata": {},
   "outputs": [
    {
     "data": {
      "text/plain": [
       "'USDM_200400.tif.aux.xml'"
      ]
     },
     "execution_count": 20,
     "metadata": {},
     "output_type": "execute_result"
    }
   ],
   "source": [
    " for usdm_prj_xml in usdm_prj_xml_list:\n",
    "            fname = os.path.basename(usdm_prj_xml)\n",
    "            week = int(fname[-14:-12])+1\n",
    "            if week < 10:\n",
    "                week_str = \"0\" + str(week)\n",
    "            else:\n",
    "                week_str = str(week)\n",
    "            new_name = str(i)+week_str+\".tif.aux.xml\"\n",
    "            os.rename(usdm_prj_xml, \"R:\\\\UnitedStates\\\\ForDRI_project-NEW\\\\USDM_Evaluation_2023\\\\USDM_\"+new_name)"
   ]
  },
  {
   "cell_type": "code",
   "execution_count": 41,
   "metadata": {},
   "outputs": [
    {
     "data": {
      "text/plain": [
       "(-125.0, 0.010145181039006471, 0.0, 24.0, 0.0, 0.010144362075692548)"
      ]
     },
     "execution_count": 41,
     "metadata": {},
     "output_type": "execute_result"
    }
   ],
   "source": [
    "ds_geot"
   ]
  },
  {
   "cell_type": "code",
   "execution_count": null,
   "metadata": {},
   "outputs": [],
   "source": []
  }
 ],
 "metadata": {
  "kernelspec": {
   "display_name": "Python 3.6.13 ('mywork')",
   "language": "python",
   "name": "python3"
  },
  "language_info": {
   "codemirror_mode": {
    "name": "ipython",
    "version": 3
   },
   "file_extension": ".py",
   "mimetype": "text/x-python",
   "name": "python",
   "nbconvert_exporter": "python",
   "pygments_lexer": "ipython3",
   "version": "3.6.13"
  },
  "orig_nbformat": 4,
  "vscode": {
   "interpreter": {
    "hash": "f7fce67f7bf81c6c01801418c0740e5ed8883a3338285553951947b9d9952603"
   }
  }
 },
 "nbformat": 4,
 "nbformat_minor": 2
}
