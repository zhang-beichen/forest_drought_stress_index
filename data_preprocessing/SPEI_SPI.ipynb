{
 "cells": [
  {
   "cell_type": "code",
   "execution_count": 1,
   "metadata": {},
   "outputs": [],
   "source": [
    "import pandas as pd\n",
    "import os\n",
    "import numpy as np\n",
    "import glob\n",
    "import gdal\n",
    "from gdalconst import GA_ReadOnly"
   ]
  },
  {
   "cell_type": "code",
   "execution_count": 12,
   "metadata": {},
   "outputs": [],
   "source": [
    "idir = 'R:\\\\UnitedStates\\\\ForDRI_project-NEW\\\\Case_Study_2022_Growing_Season\\\\SPEI\\\\spei_12_mn_resampled\\\\'"
   ]
  },
  {
   "cell_type": "code",
   "execution_count": 13,
   "metadata": {},
   "outputs": [],
   "source": [
    "odir = 'R:\\\\UnitedStates\\\\ForDRI_project-NEW\\\\Case_Study_2022_Growing_Season\\\\SPEI\\\\SPEI12\\\\'"
   ]
  },
  {
   "cell_type": "code",
   "execution_count": 14,
   "metadata": {},
   "outputs": [],
   "source": [
    "spei_list = glob.glob(idir+\"*.tif\")\n",
    "spei_list.sort()"
   ]
  },
  {
   "cell_type": "code",
   "execution_count": 15,
   "metadata": {},
   "outputs": [],
   "source": [
    "f = 'R:\\\\UnitedStates\\\\ForDRI_project-NEW\\\\New_Model_2022\\\\INPUT_NEW_DATA_2022\\\\SPEI12\\\\SPEI12_201308.tif'\n",
    "maskDs = gdal.Open(f,GA_ReadOnly)# your mask raster\n",
    "proj=maskDs.GetProjectionRef()\n",
    "geot = maskDs.GetGeoTransform()\n",
    "minx = geot[0]\n",
    "maxy = geot[3]\n",
    "maxx = minx + geot[1] * maskDs.RasterXSize\n",
    "miny = maxy + geot[5] * maskDs.RasterYSize"
   ]
  },
  {
   "cell_type": "code",
   "execution_count": null,
   "metadata": {},
   "outputs": [],
   "source": [
    "# 2022 growing season\n",
    "driver = gdal.GetDriverByName(\"GTiff\")\n",
    "for i in range(13,33):  # from 4 April\n",
    "    if i+1 < 10:\n",
    "        week = '0'+str(i+1)\n",
    "    else:\n",
    "        week = str(i+1)\n",
    "        \n",
    "    output = odir+'SPEI12_2022'+week+'.tif' #output file\n",
    "    data=gdal.Open(spei_list[i-13], GA_ReadOnly) #Your data the one you want to clip\n",
    "    gdal.Translate(output,data,format='GTiff',projWin=[minx,maxy,maxx,miny],outputSRS=proj)\n",
    "    print('SPEI12_2022'+week)"
   ]
  },
  {
   "cell_type": "code",
   "execution_count": 32,
   "metadata": {},
   "outputs": [],
   "source": [
    "idir = 'R:\\\\UnitedStates\\\\ForDRI_project-NEW\\\\Case_Study_2022_Growing_Season\\\\SPI\\\\spi_60_mn_resampled\\\\'"
   ]
  },
  {
   "cell_type": "code",
   "execution_count": 33,
   "metadata": {},
   "outputs": [],
   "source": [
    "odir = 'R:\\\\UnitedStates\\\\ForDRI_project-NEW\\\\Case_Study_2022_Growing_Season\\\\SPI\\\\SPI60\\\\'"
   ]
  },
  {
   "cell_type": "code",
   "execution_count": 34,
   "metadata": {},
   "outputs": [],
   "source": [
    "spi_list = glob.glob(idir+\"*.tif\")\n",
    "spi_list.sort()"
   ]
  },
  {
   "cell_type": "code",
   "execution_count": 35,
   "metadata": {},
   "outputs": [],
   "source": [
    "f = 'R:\\\\UnitedStates\\\\ForDRI_project-NEW\\\\New_Model_2022\\\\INPUT_NEW_DATA_2022\\\\SPI60\\\\SPI60_201308.tif'\n",
    "maskDs = gdal.Open(f,GA_ReadOnly)# your mask raster\n",
    "proj=maskDs.GetProjectionRef()\n",
    "geot = maskDs.GetGeoTransform()\n",
    "minx = geot[0]\n",
    "maxy = geot[3]\n",
    "maxx = minx + geot[1] * maskDs.RasterXSize\n",
    "miny = maxy + geot[5] * maskDs.RasterYSize"
   ]
  },
  {
   "cell_type": "code",
   "execution_count": null,
   "metadata": {},
   "outputs": [],
   "source": [
    "# 2022 growing season\n",
    "driver = gdal.GetDriverByName(\"GTiff\")\n",
    "for i in range(13,33):  # from 4 April\n",
    "    if i+1 < 10:\n",
    "        week = '0'+str(i+1)\n",
    "    else:\n",
    "        week = str(i+1)\n",
    "        \n",
    "    output = odir+'SPI60_2022'+week+'.tif' #output file\n",
    "    data=gdal.Open(spi_list[i-13], GA_ReadOnly) #Your data the one you want to clip\n",
    "    gdal.Translate(output,data,format='GTiff',projWin=[minx,maxy,maxx,miny],outputSRS=proj)\n",
    "    print('SPI60_2022'+week)"
   ]
  },
  {
   "cell_type": "code",
   "execution_count": null,
   "metadata": {},
   "outputs": [],
   "source": []
  }
 ],
 "metadata": {
  "interpreter": {
   "hash": "f7fce67f7bf81c6c01801418c0740e5ed8883a3338285553951947b9d9952603"
  },
  "kernelspec": {
   "display_name": "Python 3.6.13 ('mywork')",
   "language": "python",
   "name": "python3"
  },
  "language_info": {
   "codemirror_mode": {
    "name": "ipython",
    "version": 3
   },
   "file_extension": ".py",
   "mimetype": "text/x-python",
   "name": "python",
   "nbconvert_exporter": "python",
   "pygments_lexer": "ipython3",
   "version": "3.6.13"
  },
  "orig_nbformat": 4
 },
 "nbformat": 4,
 "nbformat_minor": 2
}
