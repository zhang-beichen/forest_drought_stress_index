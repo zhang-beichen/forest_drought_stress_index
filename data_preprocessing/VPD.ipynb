{
 "cells": [
  {
   "cell_type": "code",
   "execution_count": 4,
   "metadata": {},
   "outputs": [],
   "source": [
    "import gdal\n",
    "import numpy as np\n",
    "import glob\n",
    "import os\n",
    "import zipfile\n",
    "import osr\n",
    "from gdalconst import GA_ReadOnly"
   ]
  },
  {
   "cell_type": "code",
   "execution_count": null,
   "metadata": {},
   "outputs": [],
   "source": [
    "vpd_20_max = 'R:\\\\UnitedStates\\ForDRI_project-NEW\\\\New_Model_2022\\\\VPD_PRISM_raw\\\\vpd_max\\\\PRISM_vpdmax_stable_4kmD2_19810101_19811231_bil\\\\'\n",
    "vpd_20_min = 'R:\\\\UnitedStates\\ForDRI_project-NEW\\\\New_Model_2022\\\\VPD_PRISM_raw\\\\vpd_min\\\\PRISM_vpdmin_stable_4kmD2_19810101_19811231_bil\\\\'\n",
    "odir = 'R:\\\\UnitedStates\\\\ForDRI_project-NEW\\\\New_Model_2022\\\\VPD_PRISM\\\\1981\\\\'\n",
    "vpd_20_min_list = glob.glob(vpd_20_min+'*.bil')\n",
    "vpd_20_min_list.sort()\n",
    "vpd_20_max_list = glob.glob(vpd_20_max+'*.bil')\n",
    "vpd_20_max_list.sort()\n",
    "driver = gdal.GetDriverByName(\"GTiff\")\n",
    "TypeIF = gdal.GDT_Float32\n",
    "ds = gdal.Open(vpd_20_min_list[1])\n",
    "geot = ds.GetGeoTransform()\n",
    "proj = ds.GetProjection()\n",
    "rows = ds.RasterYSize\n",
    "cols = ds.RasterXSize\n",
    "for idx in range(len(vpd_20_max_list)):\n",
    "    f_20_min = vpd_20_min_list[idx]\n",
    "    f_20_min_name = os.path.basename(f_20_min)\n",
    "    f_20_max = vpd_20_max_list[idx]\n",
    "    f_20_max_name = os.path.basename(f_20_max)\n",
    "    time = f_20_min_name.split('_')[-2]\n",
    "    new_name = 'meanVPD_'+time+'.tif'\n",
    "    ds_20_min = gdal.Open(f_20_min)\n",
    "    ds_20_max = gdal.Open(f_20_max)\n",
    "    arr_20_min = ds_20_min.ReadAsArray()\n",
    "    arr_20_max = ds_20_max.ReadAsArray()\n",
    "    arr_20_mean = (arr_20_min+arr_20_max)/2\n",
    "    Raster = driver.Create(odir + new_name, cols, rows, 1, TypeIF)\n",
    "    Raster.GetRasterBand(1).WriteArray(arr_20_mean)\n",
    "    Raster.GetRasterBand(1).SetNoDataValue(-9999)\n",
    "    Raster.SetGeoTransform(geot)\n",
    "    Raster.SetProjection(proj)\n",
    "    Raster.FlushCache()\n",
    "    print(new_name)"
   ]
  },
  {
   "cell_type": "code",
   "execution_count": null,
   "metadata": {},
   "outputs": [],
   "source": [
    "vpd_max = \"R:\\\\UnitedStates\\ForDRI_project-NEW\\\\New_Model_2022\\\\VPD_PRISM_raw\\\\vpd_max\\\\\"\n",
    "vpd_max_dir_list = glob.glob(vpd_max+\"*_bil\")\n",
    "vpd_min = \"R:\\\\UnitedStates\\ForDRI_project-NEW\\\\New_Model_2022\\\\VPD_PRISM_raw\\\\vpd_min\\\\\"\n",
    "vpd_min_dir_list = glob.glob(vpd_min+\"*_bil\")"
   ]
  },
  {
   "cell_type": "code",
   "execution_count": null,
   "metadata": {},
   "outputs": [],
   "source": [
    "vpd_max_dir_list.sort()\n",
    "vpd_min_dir_list.sort()"
   ]
  },
  {
   "cell_type": "code",
   "execution_count": null,
   "metadata": {},
   "outputs": [],
   "source": [
    "odir = \"R:\\\\UnitedStates\\\\ForDRI_project-NEW\\\\New_Model_2022\\\\VPD_PRISM\\\\\"\n",
    "for i in range(len(vpd_max_dir_list)):\n",
    "    vpd_max_dir = vpd_max_dir_list[i]\n",
    "    vpd_min_dir = vpd_min_dir_list[i]\n",
    "    vpd_min_list = glob.glob(vpd_min_dir+'\\\\*.bil')\n",
    "    vpd_min_list.sort()\n",
    "    vpd_max_list = glob.glob(vpd_max_dir+'\\\\*.bil')\n",
    "    vpd_max_list.sort()\n",
    "    driver = gdal.GetDriverByName(\"GTiff\")\n",
    "    TypeIF = gdal.GDT_Float32\n",
    "    ds = gdal.Open(vpd_min_list[1])\n",
    "    geot = ds.GetGeoTransform()\n",
    "    proj = ds.GetProjection()\n",
    "    rows = ds.RasterYSize\n",
    "    cols = ds.RasterXSize\n",
    "    for idx in range(len(vpd_min_list)):\n",
    "        f_min = vpd_min_list[idx]\n",
    "        f_min_name = os.path.basename(f_min)\n",
    "        f_max = vpd_max_list[idx]\n",
    "        f_max_name = os.path.basename(f_max)\n",
    "        time = f_min_name.split('_')[-2]\n",
    "        new_name = 'meanVPD_'+time+'.tif'\n",
    "        ds_min = gdal.Open(f_min)\n",
    "        ds_max = gdal.Open(f_max)\n",
    "        arr_min = ds_min.ReadAsArray()\n",
    "        arr_max = ds_max.ReadAsArray()\n",
    "        arr_mean = (arr_min+arr_max)/2\n",
    "        Raster = driver.Create(odir + new_name, cols, rows, 1, TypeIF)\n",
    "        Raster.GetRasterBand(1).WriteArray(arr_mean)\n",
    "        Raster.GetRasterBand(1).SetNoDataValue(-9999)\n",
    "        Raster.SetGeoTransform(geot)\n",
    "        Raster.SetProjection(proj)\n",
    "        Raster.FlushCache()\n",
    "        print(new_name)"
   ]
  },
  {
   "cell_type": "code",
   "execution_count": 2,
   "metadata": {},
   "outputs": [],
   "source": [
    "odir = \"R:\\\\UnitedStates\\\\ForDRI_project-NEW\\\\New_Model_2022\\\\VPD_PRISM\\\\\""
   ]
  },
  {
   "cell_type": "code",
   "execution_count": null,
   "metadata": {},
   "outputs": [],
   "source": [
    "for y in range(1981,2021):\n",
    "    flist = glob.glob(odir+\"*%s*.tif\"%str(y))\n",
    "    for i in range(52):\n",
    "        no_week=i+1\n",
    "        weekly_arr = 0\n",
    "        weekly_list = flist[i*7:(i+1)*7]\n",
    "        weekly_list.sort()\n",
    "        for vpd in weekly_list:\n",
    "            ds = gdal.Open(vpd)\n",
    "            arr = ds.ReadAsArray()\n",
    "            arr[arr==-9999] = np.nan\n",
    "            weekly_arr = weekly_arr+arr\n",
    "        weekly_avg = weekly_arr/7\n",
    "        if no_week < 10:\n",
    "            no_week_str = '0'+str(no_week)\n",
    "        else:\n",
    "            no_week_str = str(no_week)\n",
    "        fname = 'VPD_'+str(y)+no_week_str+\".tif\"\n",
    "        driver = gdal.GetDriverByName(\"GTiff\")\n",
    "        TypeIF = gdal.GDT_Float32\n",
    "        geot = ds.GetGeoTransform()\n",
    "        proj = ds.GetProjection()\n",
    "        rows = ds.RasterYSize\n",
    "        cols = ds.RasterXSize\n",
    "        Raster = driver.Create(\"R:\\\\UnitedStates\\\\ForDRI_project-NEW\\\\New_Model_2022\\\\VPD_PRISM_weekly\\\\\" + fname, cols, rows, 1, TypeIF)\n",
    "        Raster.GetRasterBand(1).WriteArray(weekly_avg)\n",
    "        Raster.GetRasterBand(1).SetNoDataValue(np.nan)\n",
    "        Raster.SetGeoTransform(geot)\n",
    "        Raster.SetProjection(proj)\n",
    "        Raster.FlushCache()\n",
    "        print(fname) "
   ]
  },
  {
   "cell_type": "code",
   "execution_count": null,
   "metadata": {},
   "outputs": [],
   "source": [
    "glob.glob(odir+\"*%s*.tif\"%str(2018))"
   ]
  },
  {
   "cell_type": "code",
   "execution_count": 4,
   "metadata": {},
   "outputs": [],
   "source": [
    "vpd_dir = \"R:\\\\UnitedStates\\\\ForDRI_project-NEW\\\\New_Model_2022\\\\VPD_PRISM_weekly\\\\\"\n",
    "vpd_list = glob.glob(vpd_dir+\"*.tif\")\n",
    "vpd_list.sort()\n",
    "sm_arr = []\n",
    "for sm in vpd_list:\n",
    "    ds = gdal.Open(sm)\n",
    "    arr = ds.ReadAsArray()\n",
    "    arr[arr<-2] = np.nan\n",
    "    sm_arr.append(arr)\n",
    "sm_arr = np.asarray(sm_arr)"
   ]
  },
  {
   "cell_type": "code",
   "execution_count": 5,
   "metadata": {},
   "outputs": [
    {
     "data": {
      "text/plain": [
       "(2080, 621, 1405)"
      ]
     },
     "execution_count": 5,
     "metadata": {},
     "output_type": "execute_result"
    }
   ],
   "source": [
    "sm_arr.shape"
   ]
  },
  {
   "cell_type": "code",
   "execution_count": 8,
   "metadata": {},
   "outputs": [],
   "source": [
    "maskDs = gdal.Open('R:\\\\UnitedStates\\\\ForDRI_project-NEW\\\\New_Model_2022\\\\VPD_PRISM_weekly\\\\VPD_201801.tif',GA_ReadOnly)# your mask raster\n",
    "projection=maskDs.GetProjectionRef()\n",
    "geoTransform = maskDs.GetGeoTransform()\n",
    "minx = geoTransform[0]\n",
    "maxy = geoTransform[3]\n",
    "maxx = minx + geoTransform[1] * maskDs.RasterXSize\n",
    "miny = maxy + geoTransform[5] * maskDs.RasterYSize"
   ]
  },
  {
   "cell_type": "code",
   "execution_count": null,
   "metadata": {},
   "outputs": [],
   "source": [
    "driver = gdal.GetDriverByName(\"GTiff\")\n",
    "for i in range(1,54):\n",
    "    if i < 10:\n",
    "        week = '0'+str(i)\n",
    "    else:\n",
    "        week = str(i)\n",
    "    sm_month = sm_arr[i-1::52,:,:]\n",
    "    sm_mean = np.mean(sm_month,0)\n",
    "    mean = driver.Create(vpd_dir+'MEAN\\\\MEAN_' + week +'.tif', sm_mean.shape[1], sm_mean.shape[0], 1, gdal.GDT_Float32)\n",
    "    mean.GetRasterBand(1).WriteArray(sm_mean.astype(float))\n",
    "    sm_std = np.std(sm_month,0)\n",
    "    std = driver.Create(vpd_dir+'STD\\\\STD_' + week +'.tif', sm_std.shape[1], sm_std.shape[0], 1, gdal.GDT_Float32)\n",
    "    std.GetRasterBand(1).WriteArray(sm_std.astype(float))\n",
    "    print(week)\n",
    "    mean.FlushCache()\n",
    "    std.FlushCache()\n",
    "    mean.SetGeoTransform(geoTransform)\n",
    "    mean.SetProjection(projection)\n",
    "    std.SetGeoTransform(geoTransform)\n",
    "    std.SetProjection(projection)\n",
    "    del sm_mean, sm_std"
   ]
  },
  {
   "cell_type": "code",
   "execution_count": 2,
   "metadata": {},
   "outputs": [],
   "source": [
    "sm_list = glob.glob('R:\\\\UnitedStates\\\\ForDRI_project-NEW\\\\New_Model_2022\\\\VPD_PRISM_weekly\\\\' + '*.tif')\n",
    "sm_list.sort()\n",
    "mean_list = glob.glob('R:\\\\UnitedStates\\\\ForDRI_project-NEW\\\\New_Model_2022\\\\VPD_PRISM_weekly\\\\MEAN\\\\' + '*.tif')\n",
    "mean_list.sort()\n",
    "std_list = glob.glob('R:\\\\UnitedStates\\\\ForDRI_project-NEW\\\\New_Model_2022\\\\VPD_PRISM_weekly\\\\STD\\\\' + '*.tif')\n",
    "std_list.sort()"
   ]
  },
  {
   "cell_type": "code",
   "execution_count": null,
   "metadata": {},
   "outputs": [],
   "source": [
    "driver = gdal.GetDriverByName(\"GTiff\")\n",
    "for i in range(52):\n",
    "    if i+1 < 10:\n",
    "        week = '0'+str(i+1)\n",
    "    else:\n",
    "        week = str(i+1)\n",
    "    sm_mean = gdal.Open(mean_list[i])\n",
    "    sm_mean_arr = sm_mean.ReadAsArray()\n",
    "    sm_std = gdal.Open(std_list[i])\n",
    "    sm_std_arr = sm_std.ReadAsArray()\n",
    "    for j in range(40):\n",
    "        sm = gdal.Open(sm_list[52*j+i])\n",
    "        sm_arr = sm.ReadAsArray()\n",
    "        #sm_arr[sm_arr<-2] = np.nan\n",
    "        projection = sm.GetProjectionRef()\n",
    "        geoTransform = sm.GetGeoTransform()\n",
    "        sm_zscore = (sm_arr-sm_mean_arr)/sm_std_arr\n",
    "        #gws_zscore[gws_zscore<-10] == np.nan\n",
    "        #gws_zscore[gws_zscore>10] == np.nan\n",
    "        year = str(1981+j)\n",
    "        zscore = driver.Create('R:\\\\UnitedStates\\\\ForDRI_project-NEW\\\\New_Model_2022\\\\stdVPD\\\\VPD_' + year+week+'.tif', sm_arr.shape[1], sm_arr.shape[0], 1, gdal.GDT_Float32)\n",
    "        zscore.GetRasterBand(1).WriteArray(sm_zscore)\n",
    "        zscore.GetRasterBand(1).SetNoDataValue(np.nan)\n",
    "        zscore.SetGeoTransform(geoTransform)\n",
    "        zscore.SetProjection(projection)\n",
    "        zscore.FlushCache()\n",
    "        print('VPD_' + year+week)"
   ]
  },
  {
   "cell_type": "code",
   "execution_count": 6,
   "metadata": {},
   "outputs": [],
   "source": [
    "sm_list = glob.glob('R:\\\\UnitedStates\\\\ForDRI_project-NEW\\\\New_Model_2022\\\\stdVPD_resampled\\\\' + '*.tif')\n",
    "sm_list.sort()"
   ]
  },
  {
   "cell_type": "code",
   "execution_count": 5,
   "metadata": {},
   "outputs": [],
   "source": [
    "maskDs = gdal.Open('R:\\\\UnitedStates\\\\ForDRI_project-NEW\\Data\\\\VPD_PRISM\\\\vpd200801.tif',GA_ReadOnly)# your mask raster\n",
    "projection=maskDs.GetProjectionRef()\n",
    "geoTransform = maskDs.GetGeoTransform()\n",
    "minx = geoTransform[0]\n",
    "maxy = geoTransform[3]\n",
    "maxx = minx + geoTransform[1] * maskDs.RasterXSize\n",
    "miny = maxy + geoTransform[5] * maskDs.RasterYSize"
   ]
  },
  {
   "cell_type": "code",
   "execution_count": 7,
   "metadata": {},
   "outputs": [],
   "source": [
    "out_dir = \"R:\\\\UnitedStates\\\\ForDRI_project-NEW\\\\New_Model_2022\\\\VPD\\\\\"\n",
    "for idx, f in enumerate(sm_list):\n",
    "    fname = os.path.basename(f)\n",
    "    time = fname[-10:-4]\n",
    "    #month = idx%52+1\n",
    "    #if month < 10:\n",
    "    #    str_month = '0'+str(month)\n",
    "    #else:\n",
    "    #    str_month = str(month)\n",
    "    #data=gdal.Open(f, GA_ReadOnly) #Your data the one you want to clip\n",
    "    output = out_dir+fname #output file\n",
    "    data=gdal.Open(f, GA_ReadOnly) #Your data the one you want to clip\n",
    "    gdal.Translate(output,data,format='GTiff',projWin=[minx,maxy,maxx,miny],outputSRS=projection)"
   ]
  },
  {
   "cell_type": "code",
   "execution_count": null,
   "metadata": {},
   "outputs": [],
   "source": []
  }
 ],
 "metadata": {
  "interpreter": {
   "hash": "6134b15e17715d8ff1c2221639b201d4fe72777551748c446eb0af6210b1aa5b"
  },
  "kernelspec": {
   "display_name": "Python 3.6.13 ('mywork')",
   "language": "python",
   "name": "python3"
  },
  "language_info": {
   "codemirror_mode": {
    "name": "ipython",
    "version": 3
   },
   "file_extension": ".py",
   "mimetype": "text/x-python",
   "name": "python",
   "nbconvert_exporter": "python",
   "pygments_lexer": "ipython3",
   "version": "3.6.13"
  },
  "orig_nbformat": 4
 },
 "nbformat": 4,
 "nbformat_minor": 2
}
