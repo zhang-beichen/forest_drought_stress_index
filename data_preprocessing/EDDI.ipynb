{
 "cells": [
  {
   "cell_type": "code",
   "execution_count": 1,
   "metadata": {},
   "outputs": [],
   "source": [
    "import os\n",
    "import shutil\n",
    "import glob\n",
    "import datetime"
   ]
  },
  {
   "attachments": {},
   "cell_type": "markdown",
   "metadata": {},
   "source": [
    "# Download raw EDDI data\n",
    "from Directory:\n",
    "ftp://ftp.cdc.noaa.gov/Projects/EDDI/CONUS_archive/data/"
   ]
  },
  {
   "attachments": {},
   "cell_type": "markdown",
   "metadata": {},
   "source": [
    "# Reproject EDDI"
   ]
  },
  {
   "cell_type": "code",
   "execution_count": null,
   "metadata": {},
   "outputs": [],
   "source": [
    "dir_eddi = \"R:\\\\UnitedStates\\\\ForDRI_project-NEW\\\\Case_Study_2022_Growing_Season\\\\EDDI\\\\\"\n",
    "odir = \"R:\\\\UnitedStates\\\\ForDRI_project-NEW\\\\Case_Study_2022_Growing_Season\\\\EDDI\\\\\"\n",
    "flist_eddi = glob.glob(dir_eddi+'*_12mn_*.asc')\n",
    "flist_eddi.sort()\n",
    "#txt = open('gdal_translate_2020.txt', 'w')\n",
    "for f in flist_eddi:\n",
    "    fname = os.path.basename(f).split('.')[0]\n",
    "    new_name = odir+'EDDI_'+fname.split('_')[-1]+'.tif'\n",
    "    cmd = 'gdal_translate -a_srs EPSG:4326 -a_ullr -125 53 -67 25 -a_nodata -9999 %s %s' %(f, new_name)\n",
    "    #txt.write(cmd+'\\n')\n",
    "    os.system(cmd)\n",
    "    print(fname)\n",
    "#txt.close()"
   ]
  },
  {
   "attachments": {},
   "cell_type": "markdown",
   "metadata": {},
   "source": [
    "## Choose the last day of each week as the weekly data and change the name of files."
   ]
  },
  {
   "cell_type": "code",
   "execution_count": null,
   "metadata": {},
   "outputs": [],
   "source": [
    "eddi_2018 = \"R:\\\\UnitedStates\\\\ForDRI_project-NEW\\\\New_Model_2022\\\\EDDI12\\\\2018\\\\\"\n",
    "eddi_2018_flist = glob.glob(eddi_2018+\"*.tif\")\n",
    "eddi_2018_flist.sort()"
   ]
  },
  {
   "cell_type": "code",
   "execution_count": null,
   "metadata": {},
   "outputs": [],
   "source": [
    "eddi_2018_flist_weekly = []\n",
    "\n",
    "for i in eddi_2018_flist:\n",
    "    fname = os.path.basename(i)[:-4]\n",
    "    time = fname.split('_')[1]\n",
    "    time_week = datetime.datetime.strptime(time,\"%Y%m%d\").strftime(\"%Y%W\")\n",
    "    if time == '20180101':\n",
    "        week_sign = time_week\n",
    "    if week_sign != time_week:\n",
    "        eddi_2018_flist_weekly.append(i)\n",
    "        week_sign = time_week\n",
    "    elif time == '20181231':\n",
    "        eddi_2018_flist_weekly.append(i)"
   ]
  },
  {
   "cell_type": "code",
   "execution_count": null,
   "metadata": {},
   "outputs": [],
   "source": [
    "for f in eddi_2018_flist_weekly:\n",
    "    fname = os.path.basename(f)[:-4]\n",
    "    time = fname.split('_')[1]\n",
    "    time_week = datetime.datetime.strptime(time,\"%Y%m%d\").strftime(\"%Y%W\")\n",
    "    new_name = 'EDDI'+ str(int(time_week)-1)+'.tif'\n",
    "    shutil.copyfile(f, 'R:\\\\UnitedStates\\\\ForDRI_project-NEW\\\\New_Model_2022\\\\EDDI12\\\\2018_weekly_raw\\\\'+new_name)\n",
    "    print(new_name)"
   ]
  },
  {
   "cell_type": "code",
   "execution_count": null,
   "metadata": {},
   "outputs": [],
   "source": [
    "eddi_2019 = \"R:\\\\UnitedStates\\\\ForDRI_project-NEW\\\\New_Model_2022\\\\EDDI12\\\\2019\\\\\"\n",
    "eddi_2019_flist = glob.glob(eddi_2019+\"*.tif\")\n",
    "eddi_2019_flist.sort()\n",
    "eddi_2019_flist_weekly = []\n",
    "\n",
    "for i in eddi_2019_flist:\n",
    "    fname = os.path.basename(i)[:-4]\n",
    "    time = fname.split('_')[1]\n",
    "    time_week = datetime.datetime.strptime(time,\"%Y%m%d\").strftime(\"%Y%W\")\n",
    "    if time == '20190101':\n",
    "        week_sign = time_week\n",
    "    if week_sign != time_week:\n",
    "        eddi_2019_flist_weekly.append(i)\n",
    "        week_sign = time_week\n",
    "    elif time == '20191231':\n",
    "        eddi_2019_flist_weekly.append(i)"
   ]
  },
  {
   "cell_type": "code",
   "execution_count": null,
   "metadata": {},
   "outputs": [],
   "source": [
    "for f in eddi_2019_flist_weekly[:-1]:\n",
    "    fname = os.path.basename(f)[:-4]\n",
    "    time = fname.split('_')[1]\n",
    "    time_week = datetime.datetime.strptime(time,\"%Y%m%d\").strftime(\"%Y%W\")\n",
    "    new_name = 'EDDI'+ time_week +'.tif'\n",
    "    shutil.copyfile(f, 'R:\\\\UnitedStates\\\\ForDRI_project-NEW\\\\New_Model_2022\\\\EDDI12\\\\2019_weekly_raw\\\\'+new_name)\n",
    "    print(new_name)"
   ]
  },
  {
   "cell_type": "code",
   "execution_count": null,
   "metadata": {},
   "outputs": [],
   "source": [
    "eddi_2020 = \"R:\\\\UnitedStates\\\\ForDRI_project-NEW\\\\New_Model_2022\\\\EDDI12\\\\2020\\\\\"\n",
    "eddi_2020_flist = glob.glob(eddi_2020+\"*.tif\")\n",
    "eddi_2020_flist.sort()\n",
    "eddi_2020_flist_weekly = []\n",
    "\n",
    "for i in eddi_2020_flist:\n",
    "    fname = os.path.basename(i)[:-4]\n",
    "    time = fname.split('_')[1]\n",
    "    time_week = datetime.datetime.strptime(time,\"%Y%m%d\").strftime(\"%Y%W\")\n",
    "    if time == '20200101':\n",
    "        week_sign = time_week\n",
    "    if week_sign != time_week:\n",
    "        eddi_2020_flist_weekly.append(i)\n",
    "        week_sign = time_week\n",
    "    elif time == '20201231':\n",
    "        eddi_2020_flist_weekly.append(i)"
   ]
  },
  {
   "cell_type": "code",
   "execution_count": null,
   "metadata": {},
   "outputs": [],
   "source": [
    "for f in eddi_2020_flist_weekly[:-1]:\n",
    "    fname = os.path.basename(f)[:-4]\n",
    "    time = fname.split('_')[1]\n",
    "    time_week = datetime.datetime.strptime(time,\"%Y%m%d\").strftime(\"%Y%W\")\n",
    "    new_name = 'EDDI'+ time_week +'.tif'\n",
    "    shutil.copyfile(f, 'R:\\\\UnitedStates\\\\ForDRI_project-NEW\\\\New_Model_2022\\\\EDDI12\\\\2020_weekly_raw\\\\'+new_name)\n",
    "    print(new_name)"
   ]
  },
  {
   "cell_type": "code",
   "execution_count": 8,
   "metadata": {},
   "outputs": [],
   "source": [
    "eddi_2022 = \"R:\\\\UnitedStates\\\\ForDRI_project-NEW\\\\Case_Study_2022_Growing_Season\\\\EDDI\\\\\"\n",
    "eddi_2022_flist = glob.glob(eddi_2022+\"*.tif\")\n",
    "eddi_2022_flist.sort()\n",
    "eddi_2022_flist_weekly = []\n",
    "\n",
    "for i in eddi_2022_flist:\n",
    "    fname = os.path.basename(i)[:-4]\n",
    "    time = fname.split('_')[1]\n",
    "    time_week = datetime.datetime.strptime(time,\"%Y%m%d\").strftime(\"%Y%W\")\n",
    "    if time == '20220101':\n",
    "        week_sign = time_week\n",
    "    if week_sign != time_week:\n",
    "        eddi_2022_flist_weekly.append(i)\n",
    "        week_sign = time_week\n",
    "    elif time == '2020831':\n",
    "        eddi_2022_flist_weekly.append(i)"
   ]
  },
  {
   "cell_type": "code",
   "execution_count": null,
   "metadata": {},
   "outputs": [],
   "source": [
    "for f in eddi_2022_flist_weekly[:-1]:\n",
    "    fname = os.path.basename(f)[:-4]\n",
    "    time = fname.split('_')[1]\n",
    "    time_week = datetime.datetime.strptime(time,\"%Y%m%d\").strftime(\"%Y%W\")\n",
    "    new_name = 'EDDI'+ time_week +'.tif'\n",
    "    shutil.copyfile(f, \"R:\\\\UnitedStates\\\\ForDRI_project-NEW\\\\Case_Study_2022_Growing_Season\\\\EDDI_weekly_raw\\\\\"+new_name)\n",
    "    print(new_name)"
   ]
  },
  {
   "attachments": {},
   "cell_type": "markdown",
   "metadata": {},
   "source": [
    "## Reproject Resample and snap the raster to the original data"
   ]
  },
  {
   "cell_type": "code",
   "execution_count": 22,
   "metadata": {},
   "outputs": [],
   "source": [
    "import gdal\n",
    "from gdalconst import GA_ReadOnly\n",
    "\n",
    "\n",
    "maskDs = gdal.Open('R:\\\\UnitedStates\\\\ForDRI_project-NEW\\\\New_Model_2022\\\\EDDI12\\\\EDDI199001.tif', GA_ReadOnly)# your mask raster\n",
    "projection=maskDs.GetProjectionRef()\n",
    "geoTransform = maskDs.GetGeoTransform()\n",
    "minx = geoTransform[0]\n",
    "maxy = geoTransform[3]\n",
    "maxx = minx + geoTransform[1] * maskDs.RasterXSize\n",
    "miny = maxy + geoTransform[5] * maskDs.RasterYSize\n",
    "\n",
    "\n",
    "eddi_2020 = \"R:\\\\UnitedStates\\\\ForDRI_project-NEW\\\\New_Model_2022\\\\EDDI12\\\\2020_weekly_raw\\\\\"\n",
    "eddi_2020_flist = glob.glob(eddi_2020+\"*.tif\")\n",
    "eddi_2020_flist.sort()\n",
    "for f in eddi_2020_flist:\n",
    "    fname = os.path.basename(f)\n",
    "    data=gdal.Open(f, GA_ReadOnly) #Your data the one you want to clip\n",
    "    output='R:\\\\UnitedStates\\\\ForDRI_project-NEW\\\\New_Model_2022\\\\EDDI12\\\\'+fname #output file\n",
    "    gdal.Translate(output,data,format='GTiff',projWin=[minx,maxy,maxx,miny],outputSRS=projection)"
   ]
  },
  {
   "cell_type": "code",
   "execution_count": 23,
   "metadata": {},
   "outputs": [],
   "source": [
    "eddi_2019 = \"R:\\\\UnitedStates\\\\ForDRI_project-NEW\\\\New_Model_2022\\\\EDDI12\\\\2019_weekly_raw\\\\\"\n",
    "eddi_2019_flist = glob.glob(eddi_2019+\"*.tif\")\n",
    "eddi_2019_flist.sort()\n",
    "for f in eddi_2019_flist:\n",
    "    fname = os.path.basename(f)\n",
    "    data=gdal.Open(f, GA_ReadOnly) #Your data the one you want to clip\n",
    "    output='R:\\\\UnitedStates\\\\ForDRI_project-NEW\\\\New_Model_2022\\\\EDDI12\\\\'+fname #output file\n",
    "    gdal.Translate(output,data,format='GTiff',projWin=[minx,maxy,maxx,miny],outputSRS=projection)"
   ]
  },
  {
   "cell_type": "code",
   "execution_count": 24,
   "metadata": {},
   "outputs": [],
   "source": [
    "eddi_2018 = \"R:\\\\UnitedStates\\\\ForDRI_project-NEW\\\\New_Model_2022\\\\EDDI12\\\\2018_weekly_raw\\\\\"\n",
    "eddi_2018_flist = glob.glob(eddi_2018+\"*.tif\")\n",
    "eddi_2018_flist.sort()\n",
    "for f in eddi_2018_flist:\n",
    "    fname = os.path.basename(f)\n",
    "    data=gdal.Open(f, GA_ReadOnly) #Your data the one you want to clip\n",
    "    output='R:\\\\UnitedStates\\\\ForDRI_project-NEW\\\\New_Model_2022\\\\EDDI12\\\\'+fname #output file\n",
    "    gdal.Translate(output,data,format='GTiff',projWin=[minx,maxy,maxx,miny],outputSRS=projection)"
   ]
  },
  {
   "cell_type": "code",
   "execution_count": 12,
   "metadata": {},
   "outputs": [],
   "source": [
    "import gdal\n",
    "from gdalconst import GA_ReadOnly\n",
    "\n",
    "\n",
    "maskDs = gdal.Open('R:\\\\UnitedStates\\\\ForDRI_project-NEW\\\\New_Model_2022\\\\INPUT_NEW_DATA_2022\\\\EDDI12\\\\EDDI200301.tif', GA_ReadOnly)# your mask raster\n",
    "projection=maskDs.GetProjectionRef()\n",
    "geoTransform = maskDs.GetGeoTransform()\n",
    "minx = geoTransform[0]\n",
    "maxy = geoTransform[3]\n",
    "maxx = minx + geoTransform[1] * maskDs.RasterXSize\n",
    "miny = maxy + geoTransform[5] * maskDs.RasterYSize\n",
    "\n",
    "\n",
    "eddi_2022 = \"R:\\\\UnitedStates\\\\ForDRI_project-NEW\\\\Case_Study_2022_Growing_Season\\\\EDDI_weekly_raw\\\\\"\n",
    "eddi_2022_flist = glob.glob(eddi_2022+\"*.tif\")\n",
    "eddi_2022_flist.sort()\n",
    "for f in eddi_2022_flist:\n",
    "    fname = os.path.basename(f)\n",
    "    data=gdal.Open(f, GA_ReadOnly) #Your data the one you want to clip\n",
    "    output=\"R:\\\\UnitedStates\\\\ForDRI_project-NEW\\\\Case_Study_2022_Growing_Season\\\\EDDI12_weekly\\\\\"+fname #output file\n",
    "    gdal.Translate(output,data,format='GTiff',projWin=[minx,maxy,maxx,miny],outputSRS=projection)"
   ]
  },
  {
   "cell_type": "code",
   "execution_count": null,
   "metadata": {},
   "outputs": [],
   "source": []
  }
 ],
 "metadata": {
  "interpreter": {
   "hash": "f7fce67f7bf81c6c01801418c0740e5ed8883a3338285553951947b9d9952603"
  },
  "kernelspec": {
   "display_name": "Python 3.6.13 ('mywork')",
   "language": "python",
   "name": "python3"
  },
  "language_info": {
   "codemirror_mode": {
    "name": "ipython",
    "version": 3
   },
   "file_extension": ".py",
   "mimetype": "text/x-python",
   "name": "python",
   "nbconvert_exporter": "python",
   "pygments_lexer": "ipython3",
   "version": "3.6.13"
  },
  "orig_nbformat": 4
 },
 "nbformat": 4,
 "nbformat_minor": 2
}
