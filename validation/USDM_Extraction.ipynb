{
 "cells": [
  {
   "cell_type": "code",
   "execution_count": 1,
   "id": "60c6d3e7-bfaf-4884-a4bc-53bcffac23a1",
   "metadata": {},
   "outputs": [],
   "source": [
    "import matplotlib.pyplot as plt\n",
    "import seaborn as sns\n",
    "import numpy.ma as ma\n",
    "import rioxarray as rxr\n",
    "import rasterio\n",
    "from rasterio.plot import plotting_extent\n",
    "import geopandas as gpd\n",
    "import rasterstats as rs #extract the value\n",
    "import earthpy as et\n",
    "import earthpy.plot as ep\n",
    "from glob import glob\n",
    "import os"
   ]
  },
  {
   "cell_type": "code",
   "execution_count": 3,
   "id": "5d8ee5fd-6ce5-40c0-bae8-70aa27ae0754",
   "metadata": {},
   "outputs": [],
   "source": [
    "usdm_dir = \"R:/UnitedStates/ForDRI_project-NEW/USDM_Evaluation_2023/USDM_rpj/\"\n",
    "usdm_flist = glob(usdm_dir+\"*.tif\")\n",
    "usdm_flist.sort()"
   ]
  },
  {
   "attachments": {},
   "cell_type": "markdown",
   "id": "826730db-60f4-4f9e-b55a-f9e5b7039832",
   "metadata": {},
   "source": [
    "## Extract USDM values at tree-ring sites in the US"
   ]
  },
  {
   "cell_type": "code",
   "execution_count": 4,
   "id": "e49ff3ed-0882-4496-8dcb-4b64cc95a64f",
   "metadata": {},
   "outputs": [],
   "source": [
    "# western US\n",
    "west_tr_shp_dir = \"R:/UnitedStates/ForDRI_project-NEW/shapefile/tree_ring_sites_7_years.shp\"\n",
    "west_tr_shp = gpd.read_file(west_tr_shp_dir)\n",
    "west_tr_shp = west_tr_shp[['Collection','Northernmo', 'Westernmos']] # latitude and longitude\n",
    "west_tr_shp.index = range(len(west_tr_shp))\n",
    "west_tr_coords = [(x,y) for x, y in zip(west_tr_shp.Westernmos,west_tr_shp.Northernmo)]  # longitude and latitude"
   ]
  },
  {
   "cell_type": "code",
   "execution_count": 5,
   "id": "d86fd562-11c3-4ad7-b963-dae035916bea",
   "metadata": {},
   "outputs": [],
   "source": [
    "# eastern US\n",
    "east_tr_shp_dir = \"R:/UnitedStates/ForDRI_project-NEW/shapefile/Tree_site_info_overlapped_7yrs_easternUS.shp\"\n",
    "east_tr_shp = gpd.read_file(east_tr_shp_dir)\n",
    "east_tr_shp = east_tr_shp.drop_duplicates() # drop diplicates and AR079\n",
    "east_tr_shp = east_tr_shp.loc[east_tr_shp['Collection']!='AR079',:]\n",
    "east_tr_shp = east_tr_shp[['Collection','Northernmo', 'Westernmos']]\n",
    "east_tr_shp.index = range(len(east_tr_shp))\n",
    "east_tr_coords = [(x,y) for x, y in zip(east_tr_shp.Westernmos,east_tr_shp.Northernmo)]"
   ]
  },
  {
   "cell_type": "code",
   "execution_count": 6,
   "id": "3ece1468-f3d8-4a24-b1bc-6e738e0860e8",
   "metadata": {},
   "outputs": [],
   "source": [
    "# extracting USDM value at the tree ring sites\n",
    "for usdm in usdm_flist:\n",
    "    fname = os.path.basename(usdm)[-10:-4]\n",
    "    with rasterio.open(usdm) as src:\n",
    "        west_tr_shp[fname] = [x[0] for x in src.sample(west_tr_coords)]\n",
    "        east_tr_shp[fname] = [x[0] for x in src.sample(east_tr_coords)]"
   ]
  },
  {
   "cell_type": "code",
   "execution_count": 7,
   "id": "e5ed167b-58dc-4b95-8495-7ac86feff892",
   "metadata": {},
   "outputs": [],
   "source": [
    "west_tr_shp.to_csv(\"R:/UnitedStates/ForDRI_project-NEW/USDM_Evaluation_2023/tree_ring_sites_usdm_westernUS.csv\", index=None)\n",
    "east_tr_shp.to_csv(\"R:/UnitedStates/ForDRI_project-NEW/USDM_Evaluation_2023/tree_ring_sites_usdm_easternUS.csv\", index=None)"
   ]
  },
  {
   "attachments": {},
   "cell_type": "markdown",
   "id": "fd2f67c2-31cf-40a1-8789-6051c63d28c8",
   "metadata": {},
   "source": [
    "## Extract USDM values at Bowen Ratio (AmeriFlux) sites in the US"
   ]
  },
  {
   "cell_type": "code",
   "execution_count": 8,
   "id": "350caba4-3834-4f5f-8709-316bd10eadcc",
   "metadata": {},
   "outputs": [],
   "source": [
    "west_br_dir =\"R:/UnitedStates/ForDRI_project-NEW/shapefile/bowen_ratio_sites.shp\"\n",
    "west_br_shp = gpd.read_file(west_br_dir)\n",
    "west_br_shp = west_br_shp[['Site','Lat','Long']]\n",
    "west_br_shp.index = range(len(west_br_shp))\n",
    "west_br_coords = [(x,y) for x, y in zip(west_br_shp.Long,west_br_shp.Lat)]"
   ]
  },
  {
   "cell_type": "code",
   "execution_count": 10,
   "id": "e23cd8dd-44ab-4418-9d86-67ecffea20de",
   "metadata": {},
   "outputs": [],
   "source": [
    "east_br_dir = \"R:/UnitedStates/ForDRI_project-NEW/shapefile/AmeriFlux_Site_Info_EasternUS.shp\"\n",
    "east_br_shp = gpd.read_file(east_br_dir)\n",
    "east_br_shp = east_br_shp[['Site_Id', 'Latitude__','Longitude']]\n",
    "east_br_shp.index = range(len(east_br_shp))\n",
    "east_br_shp.columns = ['Site','Lat','Long']\n",
    "east_br_coords = [(x,y) for x, y in zip(east_br_shp.Long,east_br_shp.Lat)]"
   ]
  },
  {
   "cell_type": "code",
   "execution_count": 12,
   "id": "1806446d-8847-432f-88a0-061161fddaad",
   "metadata": {},
   "outputs": [],
   "source": [
    "# extracting ForDRI at the AmeriFlux sites\n",
    "for usdm in usdm_flist:\n",
    "    fname = os.path.basename(usdm)[-10:-4]\n",
    "    with rasterio.open(usdm) as src:\n",
    "        west_br_shp[fname] = [x[0] for x in src.sample(west_br_coords)]\n",
    "        east_br_shp[fname] = [x[0] for x in src.sample(east_br_coords)]"
   ]
  },
  {
   "cell_type": "code",
   "execution_count": 13,
   "id": "dc466aec-1126-4089-9740-8fc09559a589",
   "metadata": {},
   "outputs": [],
   "source": [
    "west_br_shp.to_csv(\"R:/UnitedStates/ForDRI_project-NEW/USDM_Evaluation_2023/ameriflux_sites_usdm_westernUS.csv\", index=None)\n",
    "east_br_shp.to_csv(\"R:/UnitedStates/ForDRI_project-NEW/USDM_Evaluation_2023/ameriflux_sites_usdm_easternUS.csv\", index=None)"
   ]
  },
  {
   "cell_type": "code",
   "execution_count": null,
   "id": "db598964-2d29-495c-a58d-bbdcfca8ad75",
   "metadata": {},
   "outputs": [],
   "source": [
    "stdBW_dir = \"/work/tadesse/beichen/Work/ForestDri/Ameriflux/Bowen_Ratio/\"\n",
    "stdBW_list = glob.glob(stdBW_dir+\"*_stdBW.csv\")\n",
    "stdBW_list.sort()\n",
    "for stdBW in stdBW_list:\n",
    "    fname = os.path.basename(stdBW)\n",
    "    df = pd.read_csv(stdBW,index_col=0)\n",
    "    start = df.index[0]\n",
    "    end = df.index[-1]\n",
    "    print(start,end)\n",
    "    if start < 200301:\n",
    "        start = 200301\n",
    "    if end > 202052:\n",
    "        end = 202052\n",
    "    df = df.loc[200301:202052,:]\n",
    "    df.to_csv(\"/work/tadesse/beichen/Work/ForestDri/NEW_Validation_2022/stdbw/\"+fname)\n",
    "    "
   ]
  }
 ],
 "metadata": {
  "kernelspec": {
   "display_name": "mywork",
   "language": "python",
   "name": "python3"
  },
  "language_info": {
   "codemirror_mode": {
    "name": "ipython",
    "version": 3
   },
   "file_extension": ".py",
   "mimetype": "text/x-python",
   "name": "python",
   "nbconvert_exporter": "python",
   "pygments_lexer": "ipython3",
   "version": "3.6.13"
  },
  "vscode": {
   "interpreter": {
    "hash": "f7fce67f7bf81c6c01801418c0740e5ed8883a3338285553951947b9d9952603"
   }
  }
 },
 "nbformat": 4,
 "nbformat_minor": 5
}
