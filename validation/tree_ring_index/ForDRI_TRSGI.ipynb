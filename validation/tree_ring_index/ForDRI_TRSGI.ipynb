{
 "cells": [
  {
   "cell_type": "code",
   "execution_count": 2,
   "id": "7dab1a4c-bac0-4926-8d82-3f5adbf22c0e",
   "metadata": {},
   "outputs": [],
   "source": [
    "import pandas as pd\n",
    "import numpy as np\n",
    "import os\n",
    "import glob\n",
    "from scipy.stats import pearsonr\n",
    "from scipy.stats import spearmanr\n",
    "from datetime import datetime\n",
    "import matplotlib.pyplot as plt\n",
    "import plotly.express as px\n",
    "import plotly.io as pio\n",
    "import seaborn as sns"
   ]
  },
  {
   "cell_type": "code",
   "execution_count": 2,
   "id": "b969aee2-76d4-44de-9cd4-21d227692048",
   "metadata": {},
   "outputs": [],
   "source": [
    "def categorize_fordri():\n",
    "    west_fordri = pd.read_csv(\"R:/UnitedStates/ForDRI_project-NEW/NEW_Evaluation_2022/New_Results/tree_ring_sites_fordri_westernUS.csv\",index_col=0).iloc[:,2:]\n",
    "    east_fordri = pd.read_csv(\"R:/UnitedStates/ForDRI_project-NEW/NEW_Evaluation_2022/New_Results/tree_ring_sites_fordri_easternUS.csv\",index_col=0).iloc[:,2:]\n",
    "    west_fordri[west_fordri>=0] = 1\n",
    "    west_fordri[(west_fordri>=-1)&(west_fordri<0)] = 2\n",
    "    west_fordri[(west_fordri>=-2)&(west_fordri<-1)] = 3\n",
    "    west_fordri[west_fordri<-2] = 4\n",
    "    east_fordri[east_fordri>=0] = 1\n",
    "    east_fordri[(east_fordri>=-1)&(east_fordri<0)] = 2\n",
    "    east_fordri[(east_fordri>=-2)&(east_fordri<-1)] = 3\n",
    "    east_fordri[east_fordri<-2] = 4\n",
    "    \n",
    "    return west_fordri, east_fordri"
   ]
  },
  {
   "cell_type": "markdown",
   "id": "9f9cb220-c0df-4d66-953d-acbda46bb35b",
   "metadata": {},
   "source": [
    "## Validate ForDRI based on the Tree Ring Standardized Growth Index (TRSGI)"
   ]
  },
  {
   "cell_type": "markdown",
   "id": "d71a6805-16a2-485b-83c7-1ff095441596",
   "metadata": {},
   "source": [
    "### Using the **complete** yearly FoDRI data"
   ]
  },
  {
   "cell_type": "code",
   "execution_count": 22,
   "id": "3b7c944e-8307-46ac-85b2-f1990ea72b1f",
   "metadata": {},
   "outputs": [],
   "source": [
    "west_fordri, east_fordri = categorize_fordri()"
   ]
  },
  {
   "cell_type": "code",
   "execution_count": 23,
   "id": "198f4491-f9d9-4231-a96c-da3be3abb8be",
   "metadata": {},
   "outputs": [],
   "source": [
    "# removing month in order to group the data into years\n",
    "west_fordri.columns = west_fordri.columns.str[:4]\n",
    "west_fordri = west_fordri.T\n",
    "\n",
    "east_fordri.columns = east_fordri.columns.str[:4]\n",
    "east_fordri = east_fordri.T"
   ]
  },
  {
   "cell_type": "code",
   "execution_count": 8,
   "id": "52e61c30-3fba-4355-824e-8fc50736dd39",
   "metadata": {},
   "outputs": [
    {
     "name": "stderr",
     "output_type": "stream",
     "text": [
      "c:\\Users\\bzhang25\\Anaconda3\\envs\\mywork\\lib\\site-packages\\ipykernel_launcher.py:2: FutureWarning:\n",
      "\n",
      "The pandas.np module is deprecated and will be removed from pandas in a future version. Import numpy directly instead\n",
      "\n"
     ]
    }
   ],
   "source": [
    "# calculate the frequecy of the categorical ForDRI in a year (west)\n",
    "agg_west_fordri = pd.DataFrame(pd.np.empty((0, 57)))\n",
    "agg_west_fordri.columns = west_fordri.columns\n",
    "list_ForDRI = []\n",
    "for y in range(2003, 2021):\n",
    "    df = west_fordri.loc[west_fordri.index==str(y),:]\n",
    "    df_count = df.apply(pd.value_counts)\n",
    "    df_count = df_count.replace(np.nan,0)/52\n",
    "    if len(df_count.index) == 3:\n",
    "        df_count.loc[4.0] = [0]*57\n",
    "    elif len(df_count.index) == 2:\n",
    "        df_count.loc[3.0] = [0]*57\n",
    "        df_count.loc[4.0] = [0]*57\n",
    "    agg_west_fordri = agg_west_fordri.append(df_count)"
   ]
  },
  {
   "cell_type": "code",
   "execution_count": 9,
   "id": "43c366a3-16d5-4147-bf42-cec7cc44646e",
   "metadata": {},
   "outputs": [
    {
     "data": {
      "image/png": "[encoded data removed]",
      "text/plain": [
       "<Figure size 432x288 with 1 Axes>"
      ]
     },
     "metadata": {
      "needs_background": "light"
     },
     "output_type": "display_data"
    }
   ],
   "source": [
    "plt.figure()\n",
    "plt.hist(agg_west_fordri.loc[agg_west_fordri.index==1.0,:].values.flatten(),edgecolor = 'black',bins=10)\n",
    "plt.title(\"Distribution of the frequency of non-drought for every complete year (West)\")\n",
    "plt.show()"
   ]
  },
  {
   "cell_type": "code",
   "execution_count": 10,
   "id": "c1e477af-e897-42ce-a9d7-e8abc9f5af0d",
   "metadata": {},
   "outputs": [
    {
     "name": "stderr",
     "output_type": "stream",
     "text": [
      "c:\\Users\\bzhang25\\Anaconda3\\envs\\mywork\\lib\\site-packages\\ipykernel_launcher.py:2: FutureWarning:\n",
      "\n",
      "The pandas.np module is deprecated and will be removed from pandas in a future version. Import numpy directly instead\n",
      "\n"
     ]
    }
   ],
   "source": [
    "# calculate the frequecy of the categorical ForDRI in a year (east)\n",
    "agg_east_fordri = pd.DataFrame(pd.np.empty((0, 9)))\n",
    "agg_east_fordri.columns = east_fordri.columns\n",
    "list_ForDRI = []\n",
    "for y in range(2003, 2021):\n",
    "    df = east_fordri.loc[east_fordri.index==str(y),:]\n",
    "    df_count = df.apply(pd.value_counts)\n",
    "    df_count = df_count.replace(np.nan,0)/52\n",
    "    if len(df_count.index) == 3:\n",
    "        df_count.loc[4.0] = [0]*9\n",
    "    elif len(df_count.index) == 2:\n",
    "        df_count.loc[3.0] = [0]*9\n",
    "        df_count.loc[4.0] = [0]*9\n",
    "    agg_east_fordri = agg_east_fordri.append(df_count)"
   ]
  },
  {
   "cell_type": "code",
   "execution_count": 11,
   "id": "f3a55d95-df00-4854-b3f2-282c087dd04c",
   "metadata": {},
   "outputs": [
    {
     "data": {
      "image/png": "[encoded data removed]",
      "text/plain": [
       "<Figure size 432x288 with 1 Axes>"
      ]
     },
     "metadata": {
      "needs_background": "light"
     },
     "output_type": "display_data"
    }
   ],
   "source": [
    "plt.figure()\n",
    "plt.hist(agg_east_fordri.loc[agg_east_fordri.index==1.0,:].values.flatten(),edgecolor = 'black',bins=10)\n",
    "plt.title(\"Distribution of the frequency of non-drought for every complete year (East)\")\n",
    "plt.show()"
   ]
  },
  {
   "cell_type": "code",
   "execution_count": 12,
   "id": "2cab33a6-6bea-46d3-a973-d844fba07cac",
   "metadata": {},
   "outputs": [
    {
     "name": "stderr",
     "output_type": "stream",
     "text": [
      "c:\\Users\\bzhang25\\Anaconda3\\envs\\mywork\\lib\\site-packages\\ipykernel_launcher.py:2: FutureWarning:\n",
      "\n",
      "The pandas.np module is deprecated and will be removed from pandas in a future version. Import numpy directly instead\n",
      "\n"
     ]
    }
   ],
   "source": [
    "# Calculating the aggregated ForDRI (West)\n",
    "west_annual = pd.DataFrame(pd.np.empty((0, 18)))\n",
    "west_annual.columns = np.arange(2003,2021,1)\n",
    "for i in range(0,57):\n",
    "    col_name = agg_west_fordri.columns.values[i]\n",
    "    col_val = agg_west_fordri.iloc[:,i]\n",
    "    new_val = col_val * agg_west_fordri.index.values.astype(\"int\")\n",
    "    sum_val = np.array([])\n",
    "    for j in range(18):\n",
    "        j_sum = np.sum(new_val.values[j*4:(j+1)*4])\n",
    "        sum_val = np.append(sum_val, j_sum)\n",
    "    west_annual.loc[col_name] = sum_val"
   ]
  },
  {
   "cell_type": "code",
   "execution_count": 18,
   "id": "e46bb9c1",
   "metadata": {},
   "outputs": [],
   "source": [
    "west_annual.to_csv(\"R:/UnitedStates/ForDRI_project-NEW/NEW_Evaluation_2022/New_Results/integrated_annual_fordri_west.csv\")"
   ]
  },
  {
   "cell_type": "code",
   "execution_count": 13,
   "id": "db9a4000-319a-4267-8eef-04fc740eb956",
   "metadata": {},
   "outputs": [
    {
     "data": {
      "image/png": "[encoded data removed]",
      "text/plain": [
       "<Figure size 432x288 with 1 Axes>"
      ]
     },
     "metadata": {
      "needs_background": "light"
     },
     "output_type": "display_data"
    }
   ],
   "source": [
    "# plot the distribution aggregated ForDRI (West)\n",
    "plt.figure()\n",
    "plt.hist(west_annual.values.flatten(),edgecolor = 'black',bins=10,range=(1,4))\n",
    "plt.title(\"Distribution of the aggreated ForDRI for every complete year (West)\")\n",
    "plt.show()"
   ]
  },
  {
   "cell_type": "code",
   "execution_count": 14,
   "id": "739f2f97-f589-4f6c-bf83-dc8921b85ef0",
   "metadata": {},
   "outputs": [
    {
     "name": "stderr",
     "output_type": "stream",
     "text": [
      "c:\\Users\\bzhang25\\Anaconda3\\envs\\mywork\\lib\\site-packages\\ipykernel_launcher.py:2: FutureWarning:\n",
      "\n",
      "The pandas.np module is deprecated and will be removed from pandas in a future version. Import numpy directly instead\n",
      "\n"
     ]
    }
   ],
   "source": [
    "# Calculating the aggregated ForDRI (East)\n",
    "east_annual = pd.DataFrame(pd.np.empty((0, 18)))\n",
    "east_annual.columns = np.arange(2003,2021,1)\n",
    "for i in range(0,9):\n",
    "    col_name = agg_east_fordri.columns.values[i]\n",
    "    col_val = agg_east_fordri.iloc[:,i]\n",
    "    new_val = col_val * agg_east_fordri.index.values.astype(\"int\")\n",
    "    sum_val = np.array([])\n",
    "    for j in range(18):\n",
    "        j_sum = np.sum(new_val.values[j*4:(j+1)*4])\n",
    "        sum_val = np.append(sum_val, j_sum)\n",
    "    east_annual.loc[col_name] = sum_val"
   ]
  },
  {
   "cell_type": "code",
   "execution_count": 15,
   "id": "f3a7aa38-6202-40df-ad61-482c0d82ff28",
   "metadata": {},
   "outputs": [
    {
     "data": {
      "image/png": "[encoded data removed]",
      "text/plain": [
       "<Figure size 432x288 with 1 Axes>"
      ]
     },
     "metadata": {
      "needs_background": "light"
     },
     "output_type": "display_data"
    }
   ],
   "source": [
    "# plot the distribution aggregated ForDRI (East)\n",
    "plt.figure()\n",
    "plt.hist(east_annual.values.flatten(),edgecolor = 'black',bins=10,range=(1,4))\n",
    "plt.title(\"Distribution of the aggreated ForDRI for every complete year (East)\")\n",
    "plt.show()"
   ]
  },
  {
   "cell_type": "code",
   "execution_count": 17,
   "id": "750a4a47",
   "metadata": {},
   "outputs": [],
   "source": [
    "east_annual.to_csv(\"R:/UnitedStates/ForDRI_project-NEW/NEW_Evaluation_2022/New_Results/integrated_annual_fordri_east.csv\")"
   ]
  },
  {
   "cell_type": "code",
   "execution_count": null,
   "id": "856db1af-86f5-4aac-9214-bc9834765f4b",
   "metadata": {},
   "outputs": [],
   "source": [
    "# Calculate the Spearman Correlation and plot the map (easternUS)\n",
    "std_trsgi_dir = \"/work/tadesse/beichen/Work/ForestDri/tree_ring/STD_TRSGI_easternUS/\"\n",
    "std_trsgi_list = glob.glob(std_trsgi_dir+\"*.csv\")\n",
    "std_trsgi_list.sort()\n",
    "out_corr_df = pd.DataFrame(pd.np.empty((0, 4)))\n",
    "out_corr_df.columns = [\"Pearson-r\", \"Pearson-r p-value\", \"Spearman-r\", \"Spearman-r p-value\"]\n",
    "for stdtr in std_trsgi_list:\n",
    "    stdtr_name = os.path.basename(stdtr)[:5].upper()\n",
    "    df = pd.read_csv(stdtr)\n",
    "    end_year = df.iloc[:,0].values[-1]\n",
    "    trsgi = df.iloc[-(end_year-2003+1):,-1].values\n",
    "    fordri = east_annual.loc[stdtr_name,np.arange(2003,end_year+1,1).tolist()].values\n",
    "    pearson_r = pearsonr(-trsgi,fordri)\n",
    "    spearman_r = spearmanr(-trsgi,fordri)\n",
    "    print(stdtr_name)\n",
    "    print(\"Pearson R: \", pearson_r)\n",
    "    print(\"Spearman R: \", spearman_r)\n",
    "    out_corr_df.loc[stdtr_name] = [pearson_r[0],pearson_r[1],spearman_r[0],spearman_r[1]]\n",
    "    fig = plt.figure(figsize=(10,5))\n",
    "    ax1 = fig.add_subplot(111)\n",
    "    ax1.plot(np.arange(2003, end_year+1), fordri, color = \"blue\", marker = 'o',label = \"Integrated Annual ForDRI\")\n",
    "    ax1.set_xlabel(\"Year\")\n",
    "    ax1.set_ylabel(\"Integrated Annual ForDRI\")\n",
    "    #ax1.set_ylim(0.5,4)\n",
    "    ax1.xaxis.grid()\n",
    "    ax2 = ax1.twinx()\n",
    "    ax2.plot(np.arange(2003, end_year+1), -trsgi, color = \"green\", marker = 'o', label = \"Negative STD TRSGI\")\n",
    "    ax2.set_ylabel(\"Negative STD TRSGI\")\n",
    "    fig.legend(ncol=2, loc='lower right')\n",
    "    ax1.set_title(stdtr_name)\n",
    "    #plt.show()\n",
    "    plt.savefig(\"/work/tadesse/beichen/Work/ForestDri/NEW_Validation_2022/New_Results/ForDRI_TRSGI_allseasons_easternUS/\"+stdtr_name+'.png', ppi = 300)\n",
    "    # export the csv file of the correlation\n",
    "    out_corr_df.to_csv(\"/work/tadesse/beichen/Work/ForestDri/NEW_Validation_2022/New_Results/ForDRI_TRSGI_allseasons_easternUS/correlation_ForDRI_TRSGI.csv\")"
   ]
  },
  {
   "cell_type": "code",
   "execution_count": null,
   "id": "1f9baea9-b93d-44b5-8094-cd076ba6a5ab",
   "metadata": {},
   "outputs": [],
   "source": [
    "# Calculate the Spearman Correlation and plot the map (easternUS)\n",
    "std_trsgi_dir = \"/work/tadesse/beichen/Work/ForestDri/tree_ring/STD_TRSGI_westernUS/\"\n",
    "std_trsgi_list = glob.glob(std_trsgi_dir+\"*.csv\")\n",
    "std_trsgi_list.sort()\n",
    "out_corr_df = pd.DataFrame(pd.np.empty((0, 4)))\n",
    "out_corr_df.columns = [\"Pearson-r\", \"Pearson-r p-value\", \"Spearman-r\", \"Spearman-r p-value\"]\n",
    "for stdtr in std_trsgi_list:\n",
    "    stdtr_name = os.path.basename(stdtr)[:5].upper()\n",
    "    df = pd.read_csv(stdtr,index_col=1).iloc[:,1:] # revised based on the western US file format\n",
    "    end_year = df.index.values[-1]\n",
    "    trsgi = df.iloc[-(end_year-2003+1):,-1].values\n",
    "    fordri = west_annual.loc[stdtr_name,np.arange(2003,end_year+1,1).tolist()].values\n",
    "    pearson_r = pearsonr(-trsgi,fordri)\n",
    "    spearman_r = spearmanr(-trsgi,fordri)\n",
    "    print(stdtr_name)\n",
    "    print(\"Pearson R: \", pearson_r)\n",
    "    print(\"Spearman R: \", spearman_r)\n",
    "    out_corr_df.loc[stdtr_name] = [pearson_r[0],pearson_r[1],spearman_r[0],spearman_r[1]]\n",
    "    fig = plt.figure(figsize=(10,5))\n",
    "    ax1 = fig.add_subplot(111)\n",
    "    ax1.plot(np.arange(2003, end_year+1), fordri, color = \"blue\", marker = 'o',label = \"Integrated Annual ForDRI\")\n",
    "    ax1.set_xlabel(\"Year\")\n",
    "    ax1.set_ylabel(\"Integrated Annual ForDRI\")\n",
    "    # ax1.set_ylim(0.5,4)\n",
    "    ax1.xaxis.grid()\n",
    "    ax2 = ax1.twinx()\n",
    "    ax2.plot(np.arange(2003, end_year+1), -trsgi, color = \"green\", marker = 'o', label = \"Negative STD TRSGI\")\n",
    "    ax2.set_ylabel(\"Negative STD TRSGI\")\n",
    "    fig.legend(ncol=2, loc='lower right')\n",
    "    ax1.set_title(stdtr_name)\n",
    "    #plt.show()\n",
    "    plt.savefig(\"/work/tadesse/beichen/Work/ForestDri/NEW_Validation_2022/New_Results/ForDRI_TRSGI_allseasons_westernUS/\"+stdtr_name+'.png', ppi = 300)\n",
    "\n",
    "    # export the csv file of the correlation\n",
    "    out_corr_df.to_csv(\"/work/tadesse/beichen/Work/ForestDri/NEW_Validation_2022/New_Results/ForDRI_TRSGI_allseasons_westernUS/correlation_ForDRI_TRSGI.csv\")"
   ]
  },
  {
   "cell_type": "markdown",
   "id": "bb198e8d-98fd-4d48-a059-5defe66ad4ce",
   "metadata": {},
   "source": [
    "### Using the **growing season** FoDRI data "
   ]
  },
  {
   "cell_type": "code",
   "execution_count": 24,
   "id": "f9313458-6b00-4a24-8b2d-1a37994d4794",
   "metadata": {},
   "outputs": [],
   "source": [
    "west_fordri, east_fordri = categorize_fordri()"
   ]
  },
  {
   "cell_type": "code",
   "execution_count": 25,
   "id": "667951ae-c593-48e5-80d0-8d2c16889f66",
   "metadata": {},
   "outputs": [],
   "source": [
    "# Extracting ForDRI values during the growing season\n",
    "west_fordri = west_fordri.loc[:, west_fordri.columns.str[-2:].isin(np.arange(18,43,1).astype(\"str\"))]\n",
    "east_fordri = east_fordri.loc[:, east_fordri.columns.str[-2:].isin(np.arange(18,43,1).astype(\"str\"))]"
   ]
  },
  {
   "cell_type": "code",
   "execution_count": 26,
   "id": "49a45d68-af12-4d70-ab8f-c2a845cc41a0",
   "metadata": {},
   "outputs": [],
   "source": [
    "# removing month in order to group the data into years\n",
    "west_fordri.columns = west_fordri.columns.str[:4]\n",
    "west_fordri = west_fordri.T\n",
    "\n",
    "east_fordri.columns = east_fordri.columns.str[:4]\n",
    "east_fordri = east_fordri.T"
   ]
  },
  {
   "cell_type": "code",
   "execution_count": 27,
   "id": "3fad81af-b889-46bb-b62a-5f1bf2b11546",
   "metadata": {},
   "outputs": [],
   "source": [
    "# calculate the frequecy of the categorical ForDRI in the growing season of a year (west)\n",
    "agg_west_fordri = pd.DataFrame(np.empty((0, 57)))\n",
    "agg_west_fordri.columns = west_fordri.columns\n",
    "list_ForDRI = []\n",
    "for y in range(2003, 2021):\n",
    "    df = west_fordri.loc[west_fordri.index==str(y),:]\n",
    "    df_count = df.apply(pd.value_counts)\n",
    "    df_count = df_count.replace(np.nan,0)/25\n",
    "    if len(df_count.index) == 3:\n",
    "        df_count.loc[4.0] = [0]*57\n",
    "    elif len(df_count.index) == 2:\n",
    "        df_count.loc[3.0] = [0]*57\n",
    "        df_count.loc[4.0] = [0]*57\n",
    "    agg_west_fordri = agg_west_fordri.append(df_count)"
   ]
  },
  {
   "cell_type": "code",
   "execution_count": 28,
   "id": "71860f0c-4adf-48f7-a22b-a8b7b1972911",
   "metadata": {},
   "outputs": [
    {
     "data": {
      "image/png": "[encoded data removed]",
      "text/plain": [
       "<Figure size 432x288 with 1 Axes>"
      ]
     },
     "metadata": {
      "needs_background": "light"
     },
     "output_type": "display_data"
    }
   ],
   "source": [
    "plt.figure()\n",
    "plt.hist(agg_west_fordri.loc[agg_west_fordri.index==1.0,:].values.flatten(),edgecolor = 'black',bins=10)\n",
    "plt.title(\"Distribution of the frequency of non-drought for every growing season (West)\")\n",
    "plt.show()"
   ]
  },
  {
   "cell_type": "code",
   "execution_count": 29,
   "id": "1c50db16-b8a2-4b26-8a2f-d91573c1077d",
   "metadata": {},
   "outputs": [],
   "source": [
    "# calculate the frequecy of the categorical ForDRI in the growing season of a year (east)\n",
    "agg_east_fordri = pd.DataFrame(np.empty((0, 9)))\n",
    "agg_east_fordri.columns = east_fordri.columns\n",
    "list_ForDRI = []\n",
    "for y in range(2003, 2021):\n",
    "    df = east_fordri.loc[east_fordri.index==str(y),:]\n",
    "    df_count = df.apply(pd.value_counts)\n",
    "    df_count = df_count.replace(np.nan,0)/25\n",
    "    if len(df_count.index) == 3:\n",
    "        df_count.loc[4.0] = [0]*9\n",
    "    elif len(df_count.index) == 2:\n",
    "        df_count.loc[3.0] = [0]*9\n",
    "        df_count.loc[4.0] = [0]*9\n",
    "    agg_east_fordri = agg_east_fordri.append(df_count)"
   ]
  },
  {
   "cell_type": "code",
   "execution_count": 30,
   "id": "bb7e115c-6a16-4805-a90f-837c03042744",
   "metadata": {},
   "outputs": [
    {
     "data": {
      "image/png": "[encoded data removed]",
      "text/plain": [
       "<Figure size 432x288 with 1 Axes>"
      ]
     },
     "metadata": {
      "needs_background": "light"
     },
     "output_type": "display_data"
    }
   ],
   "source": [
    "plt.figure()\n",
    "plt.hist(agg_east_fordri.loc[agg_east_fordri.index==1.0,:].values.flatten(),edgecolor = 'black',bins=10)\n",
    "plt.title(\"Distribution of the frequency of non-drought for every growing season (East)\")\n",
    "plt.show()"
   ]
  },
  {
   "cell_type": "code",
   "execution_count": 31,
   "id": "172351a1-9349-4731-8e62-3fbb3d7a0827",
   "metadata": {},
   "outputs": [
    {
     "name": "stderr",
     "output_type": "stream",
     "text": [
      "c:\\Users\\bzhang25\\Anaconda3\\envs\\mywork\\lib\\site-packages\\ipykernel_launcher.py:2: FutureWarning:\n",
      "\n",
      "The pandas.np module is deprecated and will be removed from pandas in a future version. Import numpy directly instead\n",
      "\n"
     ]
    }
   ],
   "source": [
    "# Calculating the aggregated ForDRI in growing season (West)\n",
    "west_annual = pd.DataFrame(pd.np.empty((0, 18)))\n",
    "west_annual.columns = np.arange(2003,2021,1)\n",
    "for i in range(0,57):\n",
    "    col_name = agg_west_fordri.columns.values[i]\n",
    "    col_val = agg_west_fordri.iloc[:,i]\n",
    "    new_val = col_val * agg_west_fordri.index.values.astype(\"int\")\n",
    "    sum_val = np.array([])\n",
    "    for j in range(18):\n",
    "        j_sum = np.sum(new_val.values[j*4:(j+1)*4])\n",
    "        sum_val = np.append(sum_val, j_sum)\n",
    "    west_annual.loc[col_name] = sum_val"
   ]
  },
  {
   "cell_type": "code",
   "execution_count": 32,
   "id": "7f54efcb-de10-4fad-a4a0-6aa761b77af3",
   "metadata": {},
   "outputs": [
    {
     "data": {
      "image/png": "[encoded data removed]",
      "text/plain": [
       "<Figure size 432x288 with 1 Axes>"
      ]
     },
     "metadata": {
      "needs_background": "light"
     },
     "output_type": "display_data"
    }
   ],
   "source": [
    "# plot the distribution aggregated ForDRI (West)\n",
    "plt.figure()\n",
    "plt.hist(west_annual.values.flatten(),edgecolor = 'black',bins=10,range=(1,4))\n",
    "plt.title(\"Distribution of the aggreated ForDRI for every growing season (West)\")\n",
    "plt.show()"
   ]
  },
  {
   "cell_type": "code",
   "execution_count": 33,
   "id": "67751b94",
   "metadata": {},
   "outputs": [],
   "source": [
    "west_annual.to_csv(\"R:/UnitedStates/ForDRI_project-NEW/NEW_Evaluation_2022/New_Results/integrated_growing_season_fordri_west.csv\")"
   ]
  },
  {
   "cell_type": "code",
   "execution_count": 34,
   "id": "fb9fed17-0cb9-4666-9f31-6ca6106ff254",
   "metadata": {},
   "outputs": [
    {
     "name": "stderr",
     "output_type": "stream",
     "text": [
      "c:\\Users\\bzhang25\\Anaconda3\\envs\\mywork\\lib\\site-packages\\ipykernel_launcher.py:2: FutureWarning:\n",
      "\n",
      "The pandas.np module is deprecated and will be removed from pandas in a future version. Import numpy directly instead\n",
      "\n"
     ]
    }
   ],
   "source": [
    "# Calculating the aggregated ForDRI (East)\n",
    "east_annual = pd.DataFrame(pd.np.empty((0, 18)))\n",
    "east_annual.columns = np.arange(2003,2021,1)\n",
    "for i in range(0,9):\n",
    "    col_name = agg_east_fordri.columns.values[i]\n",
    "    col_val = agg_east_fordri.iloc[:,i]\n",
    "    new_val = col_val * agg_east_fordri.index.values.astype(\"int\")\n",
    "    sum_val = np.array([])\n",
    "    for j in range(18):\n",
    "        j_sum = np.sum(new_val.values[j*4:(j+1)*4])\n",
    "        sum_val = np.append(sum_val, j_sum)\n",
    "    east_annual.loc[col_name] = sum_val"
   ]
  },
  {
   "cell_type": "code",
   "execution_count": 35,
   "id": "3591997a-d537-4cf3-9baf-25ab937e7b95",
   "metadata": {},
   "outputs": [
    {
     "data": {
      "image/png": "[encoded data removed]",
      "text/plain": [
       "<Figure size 432x288 with 1 Axes>"
      ]
     },
     "metadata": {
      "needs_background": "light"
     },
     "output_type": "display_data"
    }
   ],
   "source": [
    "# plot the distribution aggregated ForDRI (East)\n",
    "plt.figure()\n",
    "plt.hist(east_annual.values.flatten(),edgecolor = 'black',bins=10,range=(1,4))\n",
    "plt.title(\"Distribution of the aggreated ForDRI for every growing season (East)\")\n",
    "plt.show()"
   ]
  },
  {
   "cell_type": "code",
   "execution_count": 36,
   "id": "1ec74d96",
   "metadata": {},
   "outputs": [],
   "source": [
    "east_annual.to_csv(\"R:/UnitedStates/ForDRI_project-NEW/NEW_Evaluation_2022/New_Results/integrated_growing_season_fordri_east.csv\")"
   ]
  },
  {
   "cell_type": "code",
   "execution_count": null,
   "id": "bacb6c95-f49c-4ddb-b75e-24ed23439f5d",
   "metadata": {},
   "outputs": [],
   "source": [
    "# Calculate the Spearman Correlation in the growing season and plot the map (easternUS)\n",
    "std_trsgi_dir = \"/work/tadesse/beichen/Work/ForestDri/tree_ring/STD_TRSGI_easternUS/\"\n",
    "std_trsgi_list = glob.glob(std_trsgi_dir+\"*.csv\")\n",
    "std_trsgi_list.sort()\n",
    "out_corr_df = pd.DataFrame(pd.np.empty((0, 4)))\n",
    "out_corr_df.columns = [\"Pearson-r\", \"Pearson-r p-value\", \"Spearman-r\", \"Spearman-r p-value\"]\n",
    "for stdtr in std_trsgi_list:\n",
    "    stdtr_name = os.path.basename(stdtr)[:5].upper()\n",
    "    df = pd.read_csv(stdtr)\n",
    "    end_year = df.iloc[:,0].values[-1]\n",
    "    trsgi = df.iloc[-(end_year-2003+1):,-1].values\n",
    "    fordri = east_annual.loc[stdtr_name,np.arange(2003,end_year+1,1).tolist()].values\n",
    "    pearson_r = pearsonr(-trsgi,fordri)\n",
    "    spearman_r = spearmanr(-trsgi,fordri)\n",
    "    print(stdtr_name)\n",
    "    print(\"Pearson R: \", pearson_r)\n",
    "    print(\"Spearman R: \", spearman_r)\n",
    "    out_corr_df.loc[stdtr_name] = [pearson_r[0],pearson_r[1],spearman_r[0],spearman_r[1]]\n",
    "    fig = plt.figure(figsize=(10,5))\n",
    "    ax1 = fig.add_subplot(111)\n",
    "    ax1.plot(np.arange(2003, end_year+1), fordri, color = \"blue\", marker = 'o',label = \"Integrated Annual ForDRI\")\n",
    "    ax1.set_xlabel(\"Year\")\n",
    "    ax1.set_ylabel(\"Integrated Annual ForDRI\")\n",
    "    #ax1.set_ylim(0,4)\n",
    "    ax1.xaxis.grid()\n",
    "    ax2 = ax1.twinx()\n",
    "    ax2.plot(np.arange(2003, end_year+1), -trsgi, color = \"green\", marker = 'o', label = \"Negative STD TRSGI\")\n",
    "    ax2.set_ylabel(\"Negative STD TRSGI\")\n",
    "    fig.legend(ncol=2, loc='lower right')\n",
    "    ax1.set_title(stdtr_name)\n",
    "    # plt.show()\n",
    "    #plt.savefig(\"/work/tadesse/beichen/Work/ForestDri/NEW_Validation_2022/New_Results/ForDRI_TRSGI_growingseasons_easternUS/\"+stdtr_name+'.png', ppi = 300)\n",
    "    # export the csv file of the correlation\n",
    "   # out_corr_df.to_csv(\"/work/tadesse/beichen/Work/ForestDri/NEW_Validation_2022/New_Results/ForDRI_TRSGI_growingseasons_easternUS/correlation_ForDRI_TRSGI.csv\")"
   ]
  },
  {
   "cell_type": "code",
   "execution_count": null,
   "id": "5a921e69-c80a-4415-86df-3374afce803f",
   "metadata": {},
   "outputs": [],
   "source": [
    "# Calculate the Spearman Correlation in the growing season and plot the map (west)\n",
    "std_trsgi_dir = \"/work/tadesse/beichen/Work/ForestDri/tree_ring/STD_TRSGI_westernUS/\"\n",
    "std_trsgi_list = glob.glob(std_trsgi_dir+\"*.csv\")\n",
    "std_trsgi_list.sort()\n",
    "out_corr_df = pd.DataFrame(pd.np.empty((0, 4)))\n",
    "out_corr_df.columns = [\"Pearson-r\", \"Pearson-r p-value\", \"Spearman-r\", \"Spearman-r p-value\"]\n",
    "for stdtr in std_trsgi_list:\n",
    "    stdtr_name = os.path.basename(stdtr)[:5].upper()\n",
    "    df = pd.read_csv(stdtr,index_col=1).iloc[:,1:] # revised based on the western US file format\n",
    "    end_year = df.index.values[-1]\n",
    "    trsgi = df.iloc[-(end_year-2003+1):,-1].values\n",
    "    fordri = west_annual.loc[stdtr_name,np.arange(2003,end_year+1,1).tolist()].values\n",
    "    pearson_r = pearsonr(-trsgi,fordri)\n",
    "    spearman_r = spearmanr(-trsgi,fordri)\n",
    "    print(stdtr_name)\n",
    "    print(\"Pearson R: \", pearson_r)\n",
    "    print(\"Spearman R: \", spearman_r)\n",
    "    out_corr_df.loc[stdtr_name] = [pearson_r[0],pearson_r[1],spearman_r[0],spearman_r[1]]\n",
    "    fig = plt.figure(figsize=(10,5))\n",
    "    ax1 = fig.add_subplot(111)\n",
    "    ax1.plot(np.arange(2003, end_year+1), fordri, color = \"blue\", marker = 'o',label = \"Integrated Annual ForDRI\")\n",
    "    ax1.set_xlabel(\"Year\")\n",
    "    ax1.set_ylabel(\"Integrated Annual ForDRI\")\n",
    "    # ax1.set_ylim(0.5,4)\n",
    "    ax1.xaxis.grid()\n",
    "    ax2 = ax1.twinx()\n",
    "    ax2.plot(np.arange(2003, end_year+1), -trsgi, color = \"green\", marker = 'o', label = \"Negative STD TRSGI\")\n",
    "    ax2.set_ylabel(\"Negative STD TRSGI\")\n",
    "    fig.legend(ncol=2, loc='lower right')\n",
    "    ax1.set_title(stdtr_name)\n",
    "    plt.show()\n",
    "    #plt.savefig(\"/work/tadesse/beichen/Work/ForestDri/NEW_Validation_2022/New_Results/ForDRI_TRSGI_growingseasons_westernUS/\"+stdtr_name+'.png', ppi = 300)\n",
    "\n",
    "    # export the csv file of the correlation\n",
    "    #out_corr_df.to_csv(\"/work/tadesse/beichen/Work/ForestDri/NEW_Validation_2022/New_Results/ForDRI_TRSGI_growingseasons_westernUS/correlation_ForDRI_TRSGI.csv\")"
   ]
  },
  {
   "cell_type": "markdown",
   "id": "addb0ab9-7e16-4ad0-8a93-e4547ac3d6d9",
   "metadata": {},
   "source": [
    "### Time series of ForDRI at the tree ring sites"
   ]
  },
  {
   "cell_type": "code",
   "execution_count": 3,
   "id": "41c42573-e6e6-4b94-85ac-f60f28754b2a",
   "metadata": {},
   "outputs": [],
   "source": [
    "west_fordri = pd.read_csv(\"/work/tadesse/beichen/Work/ForestDri/NEW_Validation_2022/tree_ring_sites_fordri_westernUS.csv\",index_col=0).iloc[:,2:]\n",
    "east_fordri = pd.read_csv(\"/work/tadesse/beichen/Work/ForestDri/NEW_Validation_2022/tree_ring_sites_fordri_easternUS.csv\",index_col=0).iloc[:,2:]"
   ]
  },
  {
   "cell_type": "code",
   "execution_count": null,
   "id": "6c643935-7fa5-44b0-9332-a685031011fa",
   "metadata": {},
   "outputs": [],
   "source": [
    "timestamps = west_fordri.columns.values[2:]\n",
    "for idx,arr in west_fordri.iterrows():\n",
    "    df = arr.values\n",
    "    fig = plt.figure(figsize=(30,6))\n",
    "    ax1 = fig.add_subplot(111)\n",
    "    ax1.plot(np.arange(0,936,1), df, color=\"green\")\n",
    "    #ax1.xaxis.set_major_locator(mdates.DayLocator(interval=30))\n",
    "    fig.autofmt_xdate(rotation=90)\n",
    "    ax1.set_ylim(-3.5,3.5)\n",
    "    ax1.set_ylabel(\"ForDRI\",fontsize=12)\n",
    "    ax1.set_xlabel(\"Time (Week)\", fontsize=12)\n",
    "    plt.yticks(fontsize=12)\n",
    "    ax1.set_title(idx,fontsize=14)\n",
    "    ax1.margins(x=0.01,y=0.2)\n",
    "    for y in range(2003,2021):\n",
    "        gs_weeks = np.array([18,43])+(y-2003)*52\n",
    "        ax1.fill_between(gs_weeks,-3.5, 3.5,facecolor='red', alpha=0.1)\n",
    "    ax1.fill_between([0,0],-3.5, 3.5,facecolor='red', alpha=0.1, label = 'Growing Season')\n",
    "    plt.grid(axis=\"both\")\n",
    "    plt.xticks(np.arange(0,936,12),timestamps[::12])\n",
    "    plt.xticks(fontsize=12)\n",
    "    plt.yticks(fontsize=12)\n",
    "    \n",
    "    #fig.legend(ncol=3, loc='lower center')\n",
    "    fig.savefig(\"/work/tadesse/beichen/Work/ForestDri/NEW_Validation_2022/New_Results/ForDRI_TRSGI_Time_Series_westernUS/\"+idx+'.png', ppi = 500)\n",
    "    #fig.show()"
   ]
  },
  {
   "cell_type": "code",
   "execution_count": null,
   "id": "dafffd21-c12e-41c0-ba7a-2d8c4237ee02",
   "metadata": {},
   "outputs": [],
   "source": [
    "timestamps = east_fordri.columns.values[2:]\n",
    "for idx,arr in east_fordri.iterrows():\n",
    "    df = arr.values\n",
    "    fig = plt.figure(figsize=(30,6))\n",
    "    ax1 = fig.add_subplot(111)\n",
    "    ax1.plot(np.arange(0,936,1), df, color=\"green\")\n",
    "    #ax1.xaxis.set_major_locator(mdates.DayLocator(interval=30))\n",
    "    fig.autofmt_xdate(rotation=90)\n",
    "    ax1.set_ylim(-3.5,3.5)\n",
    "    ax1.set_ylabel(\"ForDRI\",fontsize=12)\n",
    "    ax1.set_xlabel(\"Time (Week)\", fontsize=12)\n",
    "    plt.yticks(fontsize=12)\n",
    "    ax1.set_title(idx,fontsize=14)\n",
    "    ax1.margins(x=0.01,y=0.2)\n",
    "    for y in range(2003,2021):\n",
    "        gs_weeks = np.array([18,43])+(y-2003)*52\n",
    "        ax1.fill_between(gs_weeks,-3.5, 3.5,facecolor='red', alpha=0.1)\n",
    "    ax1.fill_between([0,0],-3.5, 3.5,facecolor='red', alpha=0.1, label = 'Growing Season')\n",
    "    plt.grid(axis=\"both\")\n",
    "    plt.xticks(np.arange(0,936,12),timestamps[::12])\n",
    "    plt.xticks(fontsize=12)\n",
    "    plt.yticks(fontsize=12)\n",
    "    \n",
    "    #fig.legend(ncol=3, loc='lower center')\n",
    "    fig.savefig(\"/work/tadesse/beichen/Work/ForestDri/NEW_Validation_2022/New_Results/ForDRI_TRSGI_Time_Series_easternUS/\"+idx+'.png', ppi = 500)\n",
    "    #fig.show()"
   ]
  },
  {
   "cell_type": "markdown",
   "id": "4f621d3c-abe7-47e4-af56-4cbafde6a559",
   "metadata": {},
   "source": [
    "### Spider plot of the correlations"
   ]
  },
  {
   "cell_type": "code",
   "execution_count": 3,
   "id": "59992ace-1430-4da3-a629-a2b437a9babb",
   "metadata": {},
   "outputs": [],
   "source": [
    "west_fordri = pd.read_csv(\"R:/UnitedStates/ForDRI_project-NEW/NEW_Evaluation_2022/New_Results/tree_ring_sites_fordri_westernUS.csv\",index_col=0).iloc[:,2:]\n",
    "east_fordri = pd.read_csv(\"R:/UnitedStates/ForDRI_project-NEW/NEW_Evaluation_2022/New_Results/tree_ring_sites_fordri_easternUS.csv\",index_col=0).iloc[:,2:]"
   ]
  },
  {
   "cell_type": "code",
   "execution_count": 24,
   "id": "fa2621ab-347e-4634-b18c-e23684d27b0a",
   "metadata": {},
   "outputs": [],
   "source": [
    "# west\n",
    "std_trsgi_dir = \"/work/tadesse/beichen/Work/ForestDri/tree_ring/STD_TRSGI_westernUS/\"\n",
    "std_trsgi_list = glob.glob(std_trsgi_dir+\"*.csv\")\n",
    "std_trsgi_list.sort()\n",
    "corr_wk = pd.DataFrame(index = west_fordri.index, columns = np.arange(1,53,1))\n",
    "for stdtr in std_trsgi_list:\n",
    "    stdtr_name = os.path.basename(stdtr)[:5].upper()\n",
    "    df = pd.read_csv(stdtr)\n",
    "    fordri_val = west_fordri.loc[stdtr_name,:]\n",
    "    fordri_val_wk = fordri_val.values.reshape(18,52)\n",
    "    end_year = df.iloc[:,1].values[-1]\n",
    "    trsgi = df.iloc[-(end_year-2003+1):,-1].values\n",
    "    corr_list = []\n",
    "    for wk in range(0,52):\n",
    "        fordri_val_inwk = fordri_val_wk[:(end_year-2002),wk]\n",
    "        corr = pearsonr(trsgi,fordri_val_inwk)\n",
    "        corr_list.append(corr[0])\n",
    "    corr_wk.loc[stdtr_name] = corr_list\n",
    "corr_wk.dropna().to_csv(\"/work/tadesse/beichen/Work/ForestDri/NEW_Validation_2022/New_Results/ForDRI_TRSGI_correlation_westernUS.csv\")"
   ]
  },
  {
   "cell_type": "code",
   "execution_count": 31,
   "id": "3beafd28-f921-4c3e-b324-6406aaa0a565",
   "metadata": {},
   "outputs": [],
   "source": [
    "# east\n",
    "std_trsgi_dir = \"/work/tadesse/beichen/Work/ForestDri/tree_ring/STD_TRSGI_easternUS/\"\n",
    "std_trsgi_list = glob.glob(std_trsgi_dir+\"*.csv\")\n",
    "std_trsgi_list.sort()\n",
    "corr_wk = pd.DataFrame(index = east_fordri.index, columns = np.arange(1,53,1))\n",
    "for stdtr in std_trsgi_list:\n",
    "    stdtr_name = os.path.basename(stdtr)[:5].upper()\n",
    "    df = pd.read_csv(stdtr)\n",
    "    fordri_val = east_fordri.loc[stdtr_name,:]\n",
    "    fordri_val_wk = fordri_val.values.reshape(18,52)\n",
    "    end_year = df.iloc[:,0].values[-1]\n",
    "    trsgi = df.iloc[-(end_year-2003+1):,-1].values\n",
    "    corr_list = []\n",
    "    for wk in range(0,52):\n",
    "        fordri_val_inwk = fordri_val_wk[:(end_year-2002),wk]\n",
    "        corr = pearsonr(trsgi,fordri_val_inwk)\n",
    "        corr_list.append(corr[0])\n",
    "    corr_wk.loc[stdtr_name] = corr_list\n",
    "corr_wk.dropna().to_csv(\"/work/tadesse/beichen/Work/ForestDri/NEW_Validation_2022/New_Results/ForDRI_TRSGI_correlation_easternUS.csv\")"
   ]
  },
  {
   "cell_type": "code",
   "execution_count": 4,
   "id": "1bcf7785-0899-44cf-ac44-012f15efdd01",
   "metadata": {},
   "outputs": [],
   "source": [
    "# import the data\n",
    "east = pd.read_csv(\"R:/UnitedStates/ForDRI_project-NEW/NEW_Evaluation_2022/New_Results/ForDRI_TRSGI_correlation_easternUS.csv\",index_col=0)\n",
    "west = pd.read_csv(\"R:/UnitedStates/ForDRI_project-NEW/NEW_Evaluation_2022/New_Results/ForDRI_TRSGI_correlation_westernUS.csv\",index_col=0)"
   ]
  },
  {
   "cell_type": "code",
   "execution_count": 5,
   "id": "6a3a4377-bc30-4c31-a250-37091b2bdb2d",
   "metadata": {},
   "outputs": [],
   "source": [
    "wk_list = []\n",
    "for i in east.columns.values:\n",
    "    if len(i)<2:\n",
    "        wk = '0'+str(i)\n",
    "    else:\n",
    "        wk = str(i)\n",
    "    wk_list.append(wk)"
   ]
  },
  {
   "cell_type": "code",
   "execution_count": 14,
   "id": "e422b474-7439-4191-93ac-7b16c197c0f3",
   "metadata": {},
   "outputs": [],
   "source": [
    "from matplotlib.patches import Circle, RegularPolygon\n",
    "from matplotlib.path import Path\n",
    "from matplotlib.projections.polar import PolarAxes\n",
    "from matplotlib.projections import register_projection\n",
    "from matplotlib.spines import Spine\n",
    "from matplotlib.transforms import Affine2D\n",
    "\n",
    "\n",
    "def radar_factory(num_vars, frame='circle'):\n",
    "    \"\"\"\n",
    "    Create a radar chart with `num_vars` axes.\n",
    "\n",
    "    This function creates a RadarAxes projection and registers it.\n",
    "\n",
    "    Parameters\n",
    "    ----------\n",
    "    num_vars : int\n",
    "        Number of variables for radar chart.\n",
    "    frame : {'circle', 'polygon'}\n",
    "        Shape of frame surrounding axes.\n",
    "\n",
    "    \"\"\"\n",
    "    # calculate evenly-spaced axis angles\n",
    "    theta = np.linspace(0, 2*np.pi, num_vars, endpoint=False)\n",
    "\n",
    "    class RadarTransform(PolarAxes.PolarTransform):\n",
    "\n",
    "        def transform_path_non_affine(self, path):\n",
    "            # Paths with non-unit interpolation steps correspond to gridlines,\n",
    "            # in which case we force interpolation (to defeat PolarTransform's\n",
    "            # autoconversion to circular arcs).\n",
    "            if path._interpolation_steps > 1:\n",
    "                path = path.interpolated(num_vars)\n",
    "            return Path(self.transform(path.vertices), path.codes)\n",
    "\n",
    "    class RadarAxes(PolarAxes):\n",
    "\n",
    "        name = 'radar'\n",
    "        # use 1 line segment to connect specified points\n",
    "        RESOLUTION = 1\n",
    "        PolarTransform = RadarTransform\n",
    "\n",
    "        def __init__(self, *args, **kwargs):\n",
    "            super().__init__(*args, **kwargs)\n",
    "            # rotate plot such that the first axis is at the top\n",
    "            self.set_theta_zero_location('N')\n",
    "\n",
    "        def fill(self, *args, closed=True, **kwargs):\n",
    "            \"\"\"Override fill so that line is closed by default\"\"\"\n",
    "            return super().fill(closed=closed, *args, **kwargs)\n",
    "\n",
    "        def plot(self, *args, **kwargs):\n",
    "            \"\"\"Override plot so that line is closed by default\"\"\"\n",
    "            lines = super().plot(*args, **kwargs)\n",
    "            for line in lines:\n",
    "                self._close_line(line)\n",
    "\n",
    "        def _close_line(self, line):\n",
    "            x, y = line.get_data()\n",
    "            # FIXME: markers at x[0], y[0] get doubled-up\n",
    "            if x[0] != x[-1]:\n",
    "                x = np.append(x, x[0])\n",
    "                y = np.append(y, y[0])\n",
    "                line.set_data(x, y)\n",
    "\n",
    "        def set_varlabels(self, labels):\n",
    "            self.set_thetagrids(np.degrees(theta), labels)\n",
    "\n",
    "        def _gen_axes_patch(self):\n",
    "            # The Axes patch must be centered at (0.5, 0.5) and of radius 0.5\n",
    "            # in axes coordinates.\n",
    "            if frame == 'circle':\n",
    "                return Circle((0.5, 0.5), 0.5)\n",
    "            elif frame == 'polygon':\n",
    "                return RegularPolygon((0.5, 0.5), num_vars,\n",
    "                                      radius=.5, edgecolor=\"k\")\n",
    "            else:\n",
    "                raise ValueError(\"Unknown value for 'frame': %s\" % frame)\n",
    "\n",
    "        def _gen_axes_spines(self):\n",
    "            if frame == 'circle':\n",
    "                return super()._gen_axes_spines()\n",
    "            elif frame == 'polygon':\n",
    "                # spine_type must be 'left'/'right'/'top'/'bottom'/'circle'.\n",
    "                spine = Spine(axes=self,\n",
    "                              spine_type='circle',\n",
    "                              path=Path.unit_regular_polygon(num_vars))\n",
    "                # unit_regular_polygon gives a polygon of radius 1 centered at\n",
    "                # (0, 0) but we want a polygon of radius 0.5 centered at (0.5,\n",
    "                # 0.5) in axes coordinates.\n",
    "                spine.set_transform(Affine2D().scale(.5).translate(.5, .5)\n",
    "                                    + self.transAxes)\n",
    "                return {'polar': spine}\n",
    "            else:\n",
    "                raise ValueError(\"Unknown value for 'frame': %s\" % frame)\n",
    "\n",
    "    register_projection(RadarAxes)\n",
    "    return theta"
   ]
  },
  {
   "cell_type": "code",
   "execution_count": null,
   "id": "25c1e891-0441-4f8d-abc7-e7ff9d6810b3",
   "metadata": {},
   "outputs": [],
   "source": [
    "N = 52\n",
    "theta = radar_factory(N, frame='polygon')\n",
    "\n",
    "#east = east.drop([\"AR078\"])\n",
    "fig, axs = plt.subplots(figsize=(15, 15), nrows=3, ncols=3,\n",
    "                        subplot_kw=dict(projection='radar'))\n",
    "fig.subplots_adjust(wspace=0.25, hspace=0.20, top=0.85, bottom=0.05)\n",
    "\n",
    "#colors = ['b', 'r', 'g', 'm', 'y']\n",
    "# Plot the four cases from the example data on separate axes\n",
    "for ax, idx in zip(axs.flat, np.arange(0,east.shape[0])):\n",
    "    ax.set_title(east.index.values[idx], weight='bold', size='medium', position=(0.5, 1.1),\n",
    "                    horizontalalignment='center', verticalalignment='center')\n",
    "    case_data = east.iloc[idx,:]\n",
    "    if np.min(case_data) < 0:\n",
    "        val_range = np.max(case_data) - np.min(case_data)\n",
    "        if val_range//0.2 <=2:\n",
    "            ax.set_rgrids(np.arange(-1,1,0.1))\n",
    "        else:\n",
    "            ax.set_rgrids(np.arange(-1,1,0.2))\n",
    "        ax.plot(theta, case_data, color=\"red\")\n",
    "        ax.set_theta_direction(-1) # reverse the direction of the angle for the polar plot\n",
    "        ax.fill(theta, case_data, facecolor=\"red\", alpha=0.25, label='_nolegend_')\n",
    "    else:\n",
    "        val_range = np.max(case_data) - np.min(case_data)\n",
    "        if val_range//0.2 <=2:\n",
    "            ax.set_rgrids(np.arange(0,1,0.1))\n",
    "        else:\n",
    "            ax.set_rgrids(np.arange(0,1,0.2))\n",
    "        ax.plot(theta, case_data, color=\"blue\")\n",
    "        ax.set_theta_direction(-1)\n",
    "        ax.fill(theta, case_data, facecolor=\"blue\", alpha=0.25, label='_nolegend_')\n",
    "    \n",
    "    ax.set_varlabels(east.columns.values)\n",
    "    ax.set_axisbelow(False)\n",
    "\n",
    "# add legend relative to top-left plot\n",
    "# labels = ('Factor 1', 'Factor 2', 'Factor 3', 'Factor 4', 'Factor 5')\n",
    "# legend = axs[0, 0].legend(labels, loc=(0.9, .95),\n",
    "#                             labelspacing=0.1, fontsize='small')\n",
    "\n",
    "# fig.text(0.5, 0.965, 'Weekly Correlation between ForDRI and TRSGI',\n",
    "#            horizontalalignment='center', color='black', weight='bold',\n",
    "#            size='large')\n",
    "\n",
    "fig.delaxes(axs[2][2])\n",
    "\n",
    "plt.savefig(\"R:/UnitedStates/ForDRI_project-NEW/NEW_Evaluation_2022/New_Results/radar_plot_easternUS.png\",dpi=300)\n",
    "\n",
    "#plt.show()"
   ]
  },
  {
   "cell_type": "code",
   "execution_count": null,
   "id": "dcfa1125-5954-4ac2-a3f1-10923ba878f6",
   "metadata": {},
   "outputs": [],
   "source": [
    "west.columns = wk_list\n",
    "N = 52\n",
    "theta = radar_factory(N, frame='polygon')\n",
    "\n",
    "\n",
    "fig, axs = plt.subplots(figsize=(65,20), nrows= 4, ncols= 13,\n",
    "                        subplot_kw=dict(projection='radar'))\n",
    "fig.subplots_adjust(wspace=0.25, hspace=0.20, top=0.85, bottom=0.05)\n",
    "\n",
    "#colors = ['b', 'r', 'g', 'm', 'y']\n",
    "# Plot the four cases from the example data on separate axes\n",
    "for ax, idx in zip(axs.flat, np.arange(0,west.shape[0])):\n",
    "    ax.set_title(west.index.values[idx], weight='bold', size='medium', position=(0.5, 1.1),\n",
    "                    horizontalalignment='center', verticalalignment='center')\n",
    "    case_data = west.iloc[idx,:]\n",
    "    if np.min(case_data) < 0:\n",
    "        val_range = np.max(case_data) - np.min(case_data)\n",
    "        if val_range//0.2 <=2:\n",
    "            ax.set_rgrids(np.arange(-1,1,0.1))\n",
    "        else:\n",
    "            ax.set_rgrids(np.arange(-1,1,0.2))\n",
    "        ax.plot(theta, case_data, color=\"red\")\n",
    "        ax.set_theta_direction(-1)\n",
    "        ax.fill(theta, case_data, facecolor=\"red\", alpha=0.25, label='_nolegend_')\n",
    "    else:\n",
    "        val_range = np.max(case_data) - np.min(case_data)\n",
    "        if val_range//0.2 <=2:\n",
    "            ax.set_rgrids(np.arange(0,1,0.1))\n",
    "        else:\n",
    "            ax.set_rgrids(np.arange(0,1,0.2))\n",
    "        ax.plot(theta, case_data, color=\"blue\")\n",
    "        ax.set_theta_direction(-1)\n",
    "        ax.fill(theta, case_data, facecolor=\"blue\", alpha=0.25, label='_nolegend_')\n",
    "    ax.set_varlabels(west.columns.values)\n",
    "    ax.set_axisbelow(False)\n",
    "\n",
    "# add legend relative to top-left plot\n",
    "# labels = ('Factor 1', 'Factor 2', 'Factor 3', 'Factor 4', 'Factor 5')\n",
    "# legend = axs[0, 0].legend(labels, loc=(0.9, .95),\n",
    "#                             labelspacing=0.1, fontsize='small')\n",
    "\n",
    "fig.text(0.5, 0.9, 'Weekly Correlation between ForDRI and TRSGI (Western US)',\n",
    "            horizontalalignment='center', color='black', weight='bold',\n",
    "            size='large')\n",
    "\n",
    "plt.savefig(\"/work/tadesse/beichen/Work/ForestDri/NEW_Validation_2022/New_Results/radar_plot_westernUS.png\",dpi=300)"
   ]
  },
  {
   "cell_type": "code",
   "execution_count": null,
   "id": "60a124e3-6080-434a-a4bb-b2fd1e368ed2",
   "metadata": {},
   "outputs": [],
   "source": [
    "#heatmap\n",
    "plt.figure(figsize=(20,10))\n",
    "sns.heatmap(east.drop([\"AR078\"]),cmap=\"viridis\",vmin = -1, vmax=1)\n",
    "plt.xlabel(\"Week\",fontsize=14)\n",
    "plt.ylabel(\"Tree-ring Site\",fontsize=14)\n",
    "plt.yticks(va = \"center\",fontsize=12)\n",
    "plt.xticks(fontsize=12)\n",
    "plt.savefig(\"R:/UnitedStates/ForDRI_project-NEW/NEW_Evaluation_2022/New_Results/east_fordri_trsgi_weeklycorr_heatmap.png\",dpi=300)"
   ]
  },
  {
   "cell_type": "code",
   "execution_count": null,
   "id": "2d88bd8e-5742-409b-9b94-7a9b3671cf22",
   "metadata": {},
   "outputs": [],
   "source": [
    "#heatmap\n",
    "plt.figure(figsize=(20,20))\n",
    "sns.heatmap(west.loc[[\"OK041\",\"AZ583\",\"CA678\",\"AZ580\",\"OK042\",\"NM599\",\"NM596\",\"AZ587\",\"CA698\",\"AZ585\",\"AZ588\",\"NM596\",\"AZ591\",\"OK040\",\n",
    "                      \"CA674\",\"CA677\",\"CA687\",\"AZ598\",\"AZ566\",\"OK036\",\"AZ567\",\"AZ596\",\"CA671\",\"OK037\",\"OR094\",\"AZ592\",\"WY046\",\"NM601\",\n",
    "                      \"WY051\",\"AZ597\",\"OR093\",\"TX053\",\"OR095\"],:].sort_index(),cmap=\"viridis\",vmin = -1, vmax=1,cbar_kws={\"shrink\": 0.7})\n",
    "plt.xlabel(\"Week\",fontsize=14)\n",
    "plt.ylabel(\"Tree-ring Site\",fontsize=14)\n",
    "plt.yticks(va = \"center\",fontsize=12)\n",
    "plt.xticks(fontsize=12)\n",
    "plt.savefig(\"/work/tadesse/beichen/Work/ForestDri/NEW_Validation_2022/New_Results/west_fordri_trsgi_weeklycorr_heatmap.png\",dpi=300)"
   ]
  },
  {
   "attachments": {},
   "cell_type": "markdown",
   "id": "465c5580",
   "metadata": {},
   "source": [
    "Same ForDRI TRSGI USDM plots with out the USDM"
   ]
  },
  {
   "cell_type": "code",
   "execution_count": 3,
   "id": "964c44d6",
   "metadata": {},
   "outputs": [],
   "source": [
    "# annual\n",
    "# read aggregated fordri\n",
    "fordri_east_annual = pd.read_csv(\"R:/UnitedStates/ForDRI_project-NEW/NEW_Evaluation_2022/New_Results/integrated_annual_fordri_east.csv\",index_col=0)\n",
    "fordri_east_annual.columns = col_name= np.arange(2003,2021,1)\n",
    "fordri_west_annual = pd.read_csv(\"R:/UnitedStates/ForDRI_project-NEW/NEW_Evaluation_2022/New_Results/integrated_annual_fordri_west.csv\",index_col=0)\n",
    "fordri_west_annual.columns = col_name= np.arange(2003,2021,1)"
   ]
  },
  {
   "cell_type": "code",
   "execution_count": 4,
   "id": "c0670b53",
   "metadata": {},
   "outputs": [
    {
     "name": "stderr",
     "output_type": "stream",
     "text": [
      "c:\\Users\\bzhang25\\Anaconda3\\envs\\mywork\\lib\\site-packages\\scipy\\stats\\stats.py:4196: SpearmanRConstantInputWarning:\n",
      "\n",
      "An input array is constant; the correlation coefficent is not defined.\n",
      "\n",
      "c:\\Users\\bzhang25\\Anaconda3\\envs\\mywork\\lib\\site-packages\\scipy\\stats\\stats.py:4196: SpearmanRConstantInputWarning:\n",
      "\n",
      "An input array is constant; the correlation coefficent is not defined.\n",
      "\n"
     ]
    }
   ],
   "source": [
    "# Calculate the Spearman Correlation and plot the map (westernUS)\n",
    "std_trsgi_dir = \"R:/UnitedStates/ForDRI_project-NEW/tree_ring/STD_TRSGI_westernUS/\"\n",
    "std_trsgi_list = glob.glob(std_trsgi_dir+\"*.csv\")\n",
    "std_trsgi_list.sort()\n",
    "out_corr_df = pd.DataFrame(np.empty((0, 2)))\n",
    "out_corr_df.columns = [\"ForDRI: Spearman-r\", \"ForDRI: Spearman-r p-value\"]\n",
    "for stdtr in std_trsgi_list:\n",
    "    stdtr_name = os.path.basename(stdtr)[:5].upper()\n",
    "    df = pd.read_csv(stdtr,index_col=1).iloc[:,1:] # revised based on the western US file format\n",
    "    end_year = df.index.values[-1]\n",
    "    trsgi = df.iloc[-(end_year-2003+1):,-1].values\n",
    "    # usdm = west_annual.loc[stdtr_name,np.arange(2003,end_year+1,1).tolist()].values\n",
    "    fordri = fordri_west_annual.loc[stdtr_name,np.arange(2003,end_year+1,1).tolist()].values\n",
    "    #pearson_r = pearsonr(-trsgi,usdm)\n",
    "    spearman_r_fordri = spearmanr(-trsgi,fordri)\n",
    "    # spearman_r_usdm = spearmanr(-trsgi,usdm)\n",
    "    out_corr_df.loc[stdtr_name] = [spearman_r_fordri[0],spearman_r_fordri[1]]\n",
    "    fig = plt.figure(figsize=(10,5))\n",
    "    ax1 = fig.add_subplot(111)\n",
    "    ax1.plot(np.arange(2003, end_year+1), fordri, color = \"red\", marker = 'v',label = \"Integrated Annual ForDRI\")\n",
    "    ax1.set_xticks(np.arange(2003, end_year+1))\n",
    "    ax1.set_xticklabels(np.arange(2003, end_year+1))\n",
    "    ax1.set_ylim(-0.5, 5.5)\n",
    "    ax1.set_yticks(np.arange(0,6,1))\n",
    "    ax1.set_yticklabels(np.arange(0,6,1))\n",
    "    ax1.set_ylabel(\"Integrated Annual ForDRI\")\n",
    "    # ax1.set_ylim(0.5,4)\n",
    "    ax1.xaxis.grid()\n",
    "    ax2 = ax1.twinx()\n",
    "    ax2.plot(np.arange(2003, end_year+1), -trsgi, color = \"green\", marker = 'o', label = \"Negative STD TRSGI\")\n",
    "    ax2.set_ylabel(\"Negative STD TRSGI\")\n",
    "    ax2.set_ylim(-5, 5)\n",
    "    ax2.set_yticks(np.arange(-4,4.5,1))\n",
    "    ax2.set_yticklabels(np.arange(-4,4.5,1))\n",
    "    fig.legend(ncol=2, loc='lower center',bbox_to_anchor=(0.5,0))\n",
    "    ax1.set_title(stdtr_name + \" (Spearman r: %s)\" %(str(round(spearman_r_fordri[0], 2))))\n",
    "    fig.tight_layout()\n",
    "    fig.subplots_adjust(bottom=0.15)\n",
    "    # plt.show()\n",
    "    plt.savefig(\"R:/UnitedStates/ForDRI_project-NEW/NEW_Evaluation_2022/New_Results/ForDRI_TRSGI_allseasons_westernUS/\"+stdtr_name+'.png', dpi = 300)\n",
    "    plt.close(fig)\n",
    "    # export the csv file of the correlation\n",
    "    # \n",
    "    # out_corr_df.to_csv(\"R:/UnitedStates/ForDRI_project-NEW/USDM_Evaluation_2023/westUS_correlation_ForDRI_USDM_TRSGI.csv\")\n"
   ]
  },
  {
   "cell_type": "code",
   "execution_count": 5,
   "id": "ad8c3239",
   "metadata": {},
   "outputs": [],
   "source": [
    "# Calculate the Spearman Correlation and plot the map (easternUS)\n",
    "std_trsgi_dir = \"R:/UnitedStates/ForDRI_project-NEW/tree_ring/STD_TRSGI_easternUS/\"\n",
    "std_trsgi_list = glob.glob(std_trsgi_dir+\"*.csv\")\n",
    "std_trsgi_list.sort()\n",
    "#out_corr_df = pd.DataFrame(np.empty((0, 4)))\n",
    "#out_corr_df.columns =  [\"ForDRI: Spearman-r\", \"ForDRI: Spearman-r p-value\"]\n",
    "for stdtr in std_trsgi_list:\n",
    "    stdtr_name = os.path.basename(stdtr)[:5].upper()\n",
    "    df = pd.read_csv(stdtr)\n",
    "    end_year = df.iloc[:,0].values[-1]\n",
    "    trsgi = df.iloc[-(end_year-2003+1):,-1].values\n",
    "    fordri = fordri_east_annual.loc[stdtr_name,np.arange(2003,end_year+1,1).tolist()].values\n",
    "    #pearson_r = pearsonr(-trsgi,usdm)\n",
    "    spearman_r_fordri = spearmanr(-trsgi,fordri)\n",
    "    out_corr_df.loc[stdtr_name] = [spearman_r_fordri[0],spearman_r_fordri[1]]\n",
    "    fig = plt.figure(figsize=(10,5))\n",
    "    ax1 = fig.add_subplot(111)\n",
    "    ax1.plot(np.arange(2003, end_year+1), fordri, color = \"red\", marker = 'v',label = \"Integrated Annual ForDRI\")\n",
    "    ax1.set_xticks(np.arange(2003, end_year+1))\n",
    "    ax1.set_xticklabels(np.arange(2003, end_year+1))\n",
    "    ax1.set_ylim(-0.5, 5.5)\n",
    "    ax1.set_yticks(np.arange(0,6,1))\n",
    "    ax1.set_yticklabels(np.arange(0,6,1))\n",
    "    ax1.set_ylabel(\"Integrated Annual ForDRI\")\n",
    "    # ax1.set_ylim(0.5,4)\n",
    "    ax1.xaxis.grid()\n",
    "    ax2 = ax1.twinx()\n",
    "    ax2.plot(np.arange(2003, end_year+1), -trsgi, color = \"green\", marker = 'o', label = \"Negative STD TRSGI\")\n",
    "    ax2.set_ylabel(\"Negative STD TRSGI\")\n",
    "    ax2.set_ylim(-5, 5)\n",
    "    ax2.set_yticks(np.arange(-4,4.5,1))\n",
    "    ax2.set_yticklabels(np.arange(-4,4.5,1))\n",
    "    fig.legend(ncol=2, loc='lower center',bbox_to_anchor=(0.5,0))\n",
    "    ax1.set_title(stdtr_name + \" (Spearman r: %s)\" %(str(round(spearman_r_fordri[0], 2))))\n",
    "    fig.tight_layout()\n",
    "    fig.subplots_adjust(bottom=0.15)\n",
    "    # plt.show()\n",
    "    plt.savefig(\"R:/UnitedStates/ForDRI_project-NEW/NEW_Evaluation_2022/New_Results/ForDRI_TRSGI_allseasons_easternUS/\"+stdtr_name+'.png', dpi = 300)\n",
    "    plt.close(fig)"
   ]
  },
  {
   "cell_type": "code",
   "execution_count": 6,
   "id": "1754d56c",
   "metadata": {},
   "outputs": [],
   "source": [
    "# growing seasong\n",
    "# read aggregated fordri\n",
    "fordri_east_annual = pd.read_csv(\"R:/UnitedStates/ForDRI_project-NEW/NEW_Evaluation_2022/New_Results/integrated_growing_Season_fordri_east.csv\",index_col=0)\n",
    "fordri_east_annual.columns = col_name= np.arange(2003,2021,1)\n",
    "fordri_west_annual = pd.read_csv(\"R:/UnitedStates/ForDRI_project-NEW/NEW_Evaluation_2022/New_Results/integrated_growing_Season_fordri_west.csv\",index_col=0)\n",
    "fordri_west_annual.columns = col_name= np.arange(2003,2021,1)"
   ]
  },
  {
   "cell_type": "code",
   "execution_count": 7,
   "id": "846dd7ac",
   "metadata": {},
   "outputs": [
    {
     "name": "stderr",
     "output_type": "stream",
     "text": [
      "c:\\Users\\bzhang25\\Anaconda3\\envs\\mywork\\lib\\site-packages\\scipy\\stats\\stats.py:4196: SpearmanRConstantInputWarning:\n",
      "\n",
      "An input array is constant; the correlation coefficent is not defined.\n",
      "\n",
      "c:\\Users\\bzhang25\\Anaconda3\\envs\\mywork\\lib\\site-packages\\scipy\\stats\\stats.py:4196: SpearmanRConstantInputWarning:\n",
      "\n",
      "An input array is constant; the correlation coefficent is not defined.\n",
      "\n",
      "c:\\Users\\bzhang25\\Anaconda3\\envs\\mywork\\lib\\site-packages\\scipy\\stats\\stats.py:4196: SpearmanRConstantInputWarning:\n",
      "\n",
      "An input array is constant; the correlation coefficent is not defined.\n",
      "\n",
      "c:\\Users\\bzhang25\\Anaconda3\\envs\\mywork\\lib\\site-packages\\scipy\\stats\\stats.py:4196: SpearmanRConstantInputWarning:\n",
      "\n",
      "An input array is constant; the correlation coefficent is not defined.\n",
      "\n"
     ]
    }
   ],
   "source": [
    "# Calculate the Spearman Correlation and plot the map (westernUS)\n",
    "std_trsgi_dir = \"R:/UnitedStates/ForDRI_project-NEW/tree_ring/STD_TRSGI_westernUS/\"\n",
    "std_trsgi_list = glob.glob(std_trsgi_dir+\"*.csv\")\n",
    "std_trsgi_list.sort()\n",
    "out_corr_df = pd.DataFrame(np.empty((0, 2)))\n",
    "out_corr_df.columns = [\"ForDRI: Spearman-r\", \"ForDRI: Spearman-r p-value\"]\n",
    "for stdtr in std_trsgi_list:\n",
    "    stdtr_name = os.path.basename(stdtr)[:5].upper()\n",
    "    df = pd.read_csv(stdtr,index_col=1).iloc[:,1:] # revised based on the western US file format\n",
    "    end_year = df.index.values[-1]\n",
    "    trsgi = df.iloc[-(end_year-2003+1):,-1].values\n",
    "    # usdm = west_annual.loc[stdtr_name,np.arange(2003,end_year+1,1).tolist()].values\n",
    "    fordri = fordri_west_annual.loc[stdtr_name,np.arange(2003,end_year+1,1).tolist()].values\n",
    "    #pearson_r = pearsonr(-trsgi,usdm)\n",
    "    spearman_r_fordri = spearmanr(-trsgi,fordri)\n",
    "    # spearman_r_usdm = spearmanr(-trsgi,usdm)\n",
    "    out_corr_df.loc[stdtr_name] = [spearman_r_fordri[0],spearman_r_fordri[1]]\n",
    "    fig = plt.figure(figsize=(10,5))\n",
    "    ax1 = fig.add_subplot(111)\n",
    "    ax1.plot(np.arange(2003, end_year+1), fordri, color = \"red\", marker = 'v',label = \"Integrated Annual ForDRI\")\n",
    "    ax1.set_xticks(np.arange(2003, end_year+1))\n",
    "    ax1.set_xticklabels(np.arange(2003, end_year+1))\n",
    "    ax1.set_ylim(-0.5, 5.5)\n",
    "    ax1.set_yticks(np.arange(0,6,1))\n",
    "    ax1.set_yticklabels(np.arange(0,6,1))\n",
    "    ax1.set_ylabel(\"Integrated Annual ForDRI\")\n",
    "    # ax1.set_ylim(0.5,4)\n",
    "    ax1.xaxis.grid()\n",
    "    ax2 = ax1.twinx()\n",
    "    ax2.plot(np.arange(2003, end_year+1), -trsgi, color = \"green\", marker = 'o', label = \"Negative STD TRSGI\")\n",
    "    ax2.set_ylabel(\"Negative STD TRSGI\")\n",
    "    ax2.set_ylim(-5, 5)\n",
    "    ax2.set_yticks(np.arange(-4,4.5,1))\n",
    "    ax2.set_yticklabels(np.arange(-4,4.5,1))\n",
    "    fig.legend(ncol=2, loc='lower center',bbox_to_anchor=(0.5,0))\n",
    "    ax1.set_title(stdtr_name + \" (Spearman r: %s)\" %(str(round(spearman_r_fordri[0], 2))))\n",
    "    fig.tight_layout()\n",
    "    fig.subplots_adjust(bottom=0.15)\n",
    "    # plt.show()\n",
    "    plt.savefig(\"R:/UnitedStates/ForDRI_project-NEW/NEW_Evaluation_2022/New_Results/ForDRI_TRSGI_growingseasons_westernUS/\"+stdtr_name+'.png', dpi = 300)\n",
    "    plt.close(fig)\n",
    "    # export the csv file of the correlation\n",
    "    # \n",
    "    # out_corr_df.to_csv(\"R:/UnitedStates/ForDRI_project-NEW/USDM_Evaluation_2023/westUS_correlation_ForDRI_USDM_TRSGI.csv\")\n"
   ]
  },
  {
   "cell_type": "code",
   "execution_count": 8,
   "id": "361e01ee",
   "metadata": {},
   "outputs": [],
   "source": [
    "# Calculate the Spearman Correlation and plot the map (easternUS)\n",
    "std_trsgi_dir = \"R:/UnitedStates/ForDRI_project-NEW/tree_ring/STD_TRSGI_easternUS/\"\n",
    "std_trsgi_list = glob.glob(std_trsgi_dir+\"*.csv\")\n",
    "std_trsgi_list.sort()\n",
    "#out_corr_df = pd.DataFrame(np.empty((0, 4)))\n",
    "#out_corr_df.columns =  [\"ForDRI: Spearman-r\", \"ForDRI: Spearman-r p-value\"]\n",
    "for stdtr in std_trsgi_list:\n",
    "    stdtr_name = os.path.basename(stdtr)[:5].upper()\n",
    "    df = pd.read_csv(stdtr)\n",
    "    end_year = df.iloc[:,0].values[-1]\n",
    "    trsgi = df.iloc[-(end_year-2003+1):,-1].values\n",
    "    fordri = fordri_east_annual.loc[stdtr_name,np.arange(2003,end_year+1,1).tolist()].values\n",
    "    #pearson_r = pearsonr(-trsgi,usdm)\n",
    "    spearman_r_fordri = spearmanr(-trsgi,fordri)\n",
    "    out_corr_df.loc[stdtr_name] = [spearman_r_fordri[0],spearman_r_fordri[1]]\n",
    "    fig = plt.figure(figsize=(10,5))\n",
    "    ax1 = fig.add_subplot(111)\n",
    "    ax1.plot(np.arange(2003, end_year+1), fordri, color = \"red\", marker = 'v',label = \"Integrated Annual ForDRI\")\n",
    "    ax1.set_xticks(np.arange(2003, end_year+1))\n",
    "    ax1.set_xticklabels(np.arange(2003, end_year+1))\n",
    "    ax1.set_ylim(-0.5, 5.5)\n",
    "    ax1.set_yticks(np.arange(0,6,1))\n",
    "    ax1.set_yticklabels(np.arange(0,6,1))\n",
    "    ax1.set_ylabel(\"Integrated Annual ForDRI\")\n",
    "    # ax1.set_ylim(0.5,4)\n",
    "    ax1.xaxis.grid()\n",
    "    ax2 = ax1.twinx()\n",
    "    ax2.plot(np.arange(2003, end_year+1), -trsgi, color = \"green\", marker = 'o', label = \"Negative STD TRSGI\")\n",
    "    ax2.set_ylabel(\"Negative STD TRSGI\")\n",
    "    ax2.set_ylim(-5, 5)\n",
    "    ax2.set_yticks(np.arange(-4,4.5,1))\n",
    "    ax2.set_yticklabels(np.arange(-4,4.5,1))\n",
    "    fig.legend(ncol=2, loc='lower center',bbox_to_anchor=(0.5,0))\n",
    "    ax1.set_title(stdtr_name + \" (Spearman r: %s)\" %(str(round(spearman_r_fordri[0], 2))))\n",
    "    fig.tight_layout()\n",
    "    fig.subplots_adjust(bottom=0.15)\n",
    "    # plt.show()\n",
    "    plt.savefig(\"R:/UnitedStates/ForDRI_project-NEW/NEW_Evaluation_2022/New_Results/ForDRI_TRSGI_growingseasons_easternUS/\"+stdtr_name+'.png', dpi = 300)\n",
    "    plt.close(fig)"
   ]
  },
  {
   "cell_type": "code",
   "execution_count": null,
   "id": "72a85cfb",
   "metadata": {},
   "outputs": [],
   "source": []
  }
 ],
 "metadata": {
  "kernelspec": {
   "display_name": "mywork",
   "language": "python",
   "name": "python3"
  },
  "language_info": {
   "codemirror_mode": {
    "name": "ipython",
    "version": 3
   },
   "file_extension": ".py",
   "mimetype": "text/x-python",
   "name": "python",
   "nbconvert_exporter": "python",
   "pygments_lexer": "ipython3",
   "version": "3.6.13"
  },
  "vscode": {
   "interpreter": {
    "hash": "f7fce67f7bf81c6c01801418c0740e5ed8883a3338285553951947b9d9952603"
   }
  }
 },
 "nbformat": 4,
 "nbformat_minor": 5
}
