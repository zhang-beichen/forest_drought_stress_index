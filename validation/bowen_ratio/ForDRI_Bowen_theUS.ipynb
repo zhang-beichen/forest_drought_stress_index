{
 "cells": [
  {
   "cell_type": "code",
   "execution_count": 1,
   "id": "4c92bec3-3413-4c07-ac52-b9f6506a024b",
   "metadata": {},
   "outputs": [],
   "source": [
    "import pandas as pd\n",
    "import numpy as np\n",
    "import os\n",
    "import glob\n",
    "from scipy.stats import pearsonr\n",
    "from datetime import datetime\n",
    "import matplotlib.pyplot as plt\n",
    "import matplotlib.dates as mdates"
   ]
  },
  {
   "cell_type": "code",
   "execution_count": 2,
   "id": "5a98ba9d-f06e-4219-9753-8789fb956ea9",
   "metadata": {},
   "outputs": [],
   "source": [
    "df_br = pd.read_csv(\"/work/tadesse/beichen/ForDRI/Data/New_Bowen_Ratio/ameriflux_sites_fordri_US.csv\", index_col=0)\n",
    "df_br = df_br.drop([\"Lat\",\"Long\"],axis = 1)"
   ]
  },
  {
   "cell_type": "code",
   "execution_count": 3,
   "id": "08095ff3-dd9f-4cee-9570-6a6ebcbbe0f5",
   "metadata": {},
   "outputs": [],
   "source": [
    "# std br list\n",
    "stdBR_dir = \"/work/tadesse/beichen/ForDRI/Data/New_Bowen_Ratio/ForDRI_stdBR/\" # west Bowen Ratio\n",
    "stdBR_list = glob.glob(stdBR_dir+\"*.csv\")\n",
    "stdBR_list.sort()"
   ]
  },
  {
   "cell_type": "markdown",
   "id": "391542c6-521f-4318-a82e-e1fec6cc1aa8",
   "metadata": {},
   "source": [
    "## Annual Pearson correlation using the whole year"
   ]
  },
  {
   "cell_type": "code",
   "execution_count": null,
   "id": "c203e777-3c5f-4bd2-86d2-fabde58dac7b",
   "metadata": {},
   "outputs": [],
   "source": [
    "site_list = []\n",
    "r_list = []\n",
    "p_list =[]\n",
    "for stdBR in stdBR_list:\n",
    "    fname = os.path.basename(stdBR)[:-4]\n",
    "    df = pd.read_csv(stdBR,index_col=0) # get the std BR from 2003-2023\n",
    "    df.loc[:,\"ForDRI_Sample\"] = df_br.loc[fname,df.index.values.astype(str)].values\n",
    "    df = df.loc[:,[\"STD_Log_Bowen_ratio\",\"ForDRI_Sample\"]]\n",
    "    df.columns = ['stdBR','ForDRI']\n",
    "    df_forcorr = df.dropna()\n",
    "    corr = pearsonr(df_forcorr.loc[:, \"ForDRI\"].values, df_forcorr.loc[:, \"stdBR\"].values)\n",
    "    site_list.append(fname)\n",
    "    r_list.append(round(corr[0],4))\n",
    "    p_list.append(np.format_float_scientific(corr[1],  precision=4))\n",
    "    # output a table of the ForDRI and BR\n",
    "    df.to_csv(\"/work/tadesse/beichen/ForDRI/Data/New_Bowen_Ratio/ForDRI_BR/\"+fname+\".csv\")\n",
    "pearsonr_df = pd.DataFrame()\n",
    "pearsonr_df[\"Site\"] = site_list\n",
    "pearsonr_df[\"r\"] = r_list\n",
    "pearsonr_df[\"p-value\"] = p_list\n",
    "print(pearsonr_df)\n",
    "pearsonr_df.to_csv(\"/work/tadesse/beichen/ForDRI/Evaluation_Outputs/ForDRI_stdBR_PearsonR_US.csv\", index = None)"
   ]
  },
  {
   "cell_type": "markdown",
   "id": "178899b4-0b4d-45d1-aab9-6e1f1f8f2ea5",
   "metadata": {},
   "source": [
    "## Pearson Correlation plot in growing seasong by week"
   ]
  },
  {
   "cell_type": "code",
   "execution_count": 4,
   "id": "bf9212b1-0f30-475e-8a4e-39979faf2f36",
   "metadata": {},
   "outputs": [],
   "source": [
    "br_fordri_dir = \"/work/tadesse/beichen/ForDRI/Data/New_Bowen_Ratio/ForDRI_BR/\"\n",
    "br_fordri_list = glob.glob(br_fordri_dir+\"*.csv\")\n",
    "br_fordri_list.sort()"
   ]
  },
  {
   "cell_type": "code",
   "execution_count": null,
   "id": "d8e832ab-eca4-4716-b31b-dc280e39f212",
   "metadata": {},
   "outputs": [],
   "source": [
    "yearly_r_dict = {}\n",
    "df_weekly_r = pd.DataFrame()\n",
    "for f in br_fordri_list:\n",
    "    fname = os.path.basename(f)[:-4]\n",
    "    df = pd.read_csv(f,index_col=0)\n",
    "    df = df.dropna()\n",
    "    df_all_year = pd.DataFrame(columns=[\"stdBR\",\"ForDRI\"])\n",
    "    #if fname == \"US-Whs\":\n",
    "    #    df = df.iloc[22:,:]\n",
    "    df_corr_weekly = pd.DataFrame(columns = [\"pearson_r\", \"p_value\", \"AmeriFlux\"])\n",
    "    for week in range(18,43):\n",
    "        df_week = pd.DataFrame(columns=[\"stdBR\",\"ForDRI\"])\n",
    "        for date in df.index:\n",
    "            if str(week) == str(date)[-2:]:\n",
    "                df_week = pd.concat([df_week,df.loc[df.index==date,:]])\n",
    "        if len(df_week.loc[:, \"ForDRI\"].values) >= 3:\n",
    "            corr = pearsonr(df_week.loc[:, \"ForDRI\"].values, df_week.loc[:, \"stdBR\"].values)\n",
    "        else:\n",
    "            corr = [0,1]\n",
    "        df_corr_weekly.loc[week] = [corr[0],corr[1], fname]\n",
    "        df_all_year = pd.concat([df_all_year,df_week])\n",
    "    yearly_r = pearsonr(df_all_year.loc[:, \"ForDRI\"].values, df_all_year.loc[:, \"stdBR\"].values)\n",
    "    yearly_r_dict[fname] = yearly_r\n",
    "    df_corr_weekly_005 = df_corr_weekly.loc[df_corr_weekly[\"p_value\"]<=0.05,:]\n",
    "    df_corr_weekly_nan = df_corr_weekly.loc[df_corr_weekly[\"pearson_r\"].values==0,:]\n",
    "    plt.figure(figsize = (10,5))\n",
    "    plt.plot(df_corr_weekly.index.values,df_corr_weekly.pearson_r.values)\n",
    "    plt.scatter(df_corr_weekly_005.index.values,df_corr_weekly_005.pearson_r.values,color=\"red\",edgecolor=\"black\",label = \"P-value < 0.05\",zorder=10,clip_on=False)\n",
    "    plt.scatter(df_corr_weekly_nan.index.values,[0]*df_corr_weekly_nan.shape[0],color=\"black\",edgecolor=\"black\",label = \"Limited Observations\",zorder=10,clip_on=False)\n",
    "    plt.ylim((-1,1))\n",
    "    plt.ylabel(\"Pearson Correlation\")\n",
    "    plt.xlabel(\"Growing Season (Week)\")\n",
    "    plt.xticks(df_corr_weekly.index.values)\n",
    "    plt.grid(axis=\"both\")\n",
    "    plt.legend()\n",
    "    #plt.show()\n",
    "    plt.savefig(\"/work/tadesse/beichen/ForDRI/Evaluation_Outputs/ForDRI_BR_GrowingSeason/\"+fname+\".png\", dpi=300)\n",
    "    df_weekly_r = pd.concat([df_weekly_r,df_corr_weekly])"
   ]
  },
  {
   "cell_type": "code",
   "execution_count": 81,
   "id": "8becafe1",
   "metadata": {},
   "outputs": [
    {
     "data": {
      "text/plain": [
       "{'PR-xGU': PearsonRResult(statistic=nan, pvalue=nan),\n",
       " 'US-Akn': PearsonRResult(statistic=0.1730696348443408, pvalue=0.04806066815655308),\n",
       " 'US-Bar': PearsonRResult(statistic=0.04476730289072223, pvalue=0.34828786582610477),\n",
       " 'US-Cst': PearsonRResult(statistic=0.3311085118473664, pvalue=0.00018346251860419953),\n",
       " 'US-EA5': PearsonRResult(statistic=0.1074704609011085, pvalue=0.4575630552732298),\n",
       " 'US-GLE': PearsonRResult(statistic=-0.2475976397316473, pvalue=6.465763730393409e-07),\n",
       " 'US-Ha2': PearsonRResult(statistic=0.4928339330885904, pvalue=3.591741077417409e-15),\n",
       " 'US-Ho2': PearsonRResult(statistic=0.07773175488734489, pvalue=0.10666088955588257),\n",
       " 'US-MMS': PearsonRResult(statistic=0.43032131465518175, pvalue=1.7049302663228386e-24),\n",
       " 'US-MOz': PearsonRResult(statistic=0.6049764509884235, pvalue=2.2706482147964204e-45),\n",
       " 'US-Me2': PearsonRResult(statistic=0.418074192458968, pvalue=7.613674724097924e-21),\n",
       " 'US-NC2': PearsonRResult(statistic=0.3187954050554056, pvalue=7.112314570179648e-12),\n",
       " 'US-NR1': PearsonRResult(statistic=0.16507685537427289, pvalue=0.0008411513083371343),\n",
       " 'US-Oho': PearsonRResult(statistic=-0.060783579557881766, pvalue=0.34542046563300266),\n",
       " 'US-Rws': PearsonRResult(statistic=0.024894261970773213, pvalue=0.7458208794935746),\n",
       " 'US-SP1': PearsonRResult(statistic=0.2584527506011602, pvalue=2.5258392849072394e-07),\n",
       " 'US-SRM': PearsonRResult(statistic=0.20764586919520756, pvalue=4.805760962750963e-06),\n",
       " 'US-SSH': PearsonRResult(statistic=0.20913261944733852, pvalue=0.024892814843119872),\n",
       " 'US-Slt': PearsonRResult(statistic=0.07348973244395232, pvalue=0.250834760650719),\n",
       " 'US-Ton': PearsonRResult(statistic=0.33111475936111956, pvalue=2.941376242777076e-14),\n",
       " 'US-UMB': PearsonRResult(statistic=0.1080348320200952, pvalue=0.031389975959122095),\n",
       " 'US-Uaf': PearsonRResult(statistic=nan, pvalue=nan),\n",
       " 'US-Vcm': PearsonRResult(statistic=0.200272111378237, pvalue=9.631470075481595e-05),\n",
       " 'US-WCr': PearsonRResult(statistic=0.2931121364734857, pvalue=1.819959689155142e-09),\n",
       " 'US-Wrc': PearsonRResult(statistic=-0.1706517455069291, pvalue=0.0033882691602757074),\n",
       " 'US-xJE': PearsonRResult(statistic=0.25056822911235865, pvalue=0.01721874129927352),\n",
       " 'US-xNQ': PearsonRResult(statistic=0.09894359892304287, pvalue=0.43294763368155154),\n",
       " 'US-xPU': PearsonRResult(statistic=nan, pvalue=nan),\n",
       " 'US-xRN': PearsonRResult(statistic=-0.1723771959971123, pvalue=0.15058177469210493),\n",
       " 'US-xSC': PearsonRResult(statistic=0.2796539518668306, pvalue=0.07659341249444925),\n",
       " 'US-xSE': PearsonRResult(statistic=nan, pvalue=nan),\n",
       " 'US-xTA': PearsonRResult(statistic=0.2746565783190093, pvalue=0.002728087616915701),\n",
       " 'US-xUK': PearsonRResult(statistic=0.35673754729803286, pvalue=0.0005579074549679259)}"
      ]
     },
     "execution_count": 81,
     "metadata": {},
     "output_type": "execute_result"
    }
   ],
   "source": [
    "yearly_r_dict"
   ]
  },
  {
   "cell_type": "markdown",
   "id": "d54ad536-ea55-4110-8632-7f24c9858c86",
   "metadata": {},
   "source": [
    "## Pearson Correlation boxplot in growing seasong by week"
   ]
  },
  {
   "cell_type": "code",
   "execution_count": null,
   "id": "842d4cc1-6da1-4ffe-93e9-8da39eda377e",
   "metadata": {},
   "outputs": [],
   "source": [
    "dicts = {}\n",
    "df_weekly_r_region = df_weekly_r.copy()\n",
    "df_weekly_r_region = df_weekly_r_region.dropna(axis=0)\n",
    "for week in range(18,43):\n",
    "    dicts[week] = df_weekly_r_region.loc[df_weekly_r_region.index == week, \"pearson_r\"].values\n",
    "fig, ax = plt.subplots(figsize = (10,6))\n",
    "ax.boxplot(dicts.values())\n",
    "df_weekly_r_region_01 = df_weekly_r_region.loc[df_weekly_r_region[\"p_value\"]<=0.1,:]\n",
    "ax.scatter(df_weekly_r_region_01.index.values-17, df_weekly_r_region_01[\"pearson_r\"].values,color=\"red\",edgecolor=\"black\",label = \"p-value < 0.1\",zorder=10,clip_on=False)\n",
    "ax.set_xlabel(\"Weeks (growing season)\")\n",
    "ax.set_ylabel(\"Pearson correlation coefficient\")\n",
    "ax.set_xticklabels(dicts.keys())\n",
    "ax.set_ylim((-1,1))\n",
    "plt.legend()\n",
    "#plt.show()\n",
    "plt.savefig(\"/work/tadesse/beichen/ForDRI/Evaluation_Outputs/BR_ForDRI_Overall.png\",dpi=300)"
   ]
  },
  {
   "cell_type": "markdown",
   "id": "5d04aaeb",
   "metadata": {},
   "source": [
    "## Pearson correlation boxplot in the growing season by sites"
   ]
  },
  {
   "cell_type": "code",
   "execution_count": 93,
   "id": "ca60274a",
   "metadata": {},
   "outputs": [
    {
     "data": {
      "image/png": "[encoded data removed]",
      "text/plain": [
       "<Figure size 600x400 with 1 Axes>"
      ]
     },
     "metadata": {},
     "output_type": "display_data"
    }
   ],
   "source": [
    "df_corr = pd.DataFrame(columns=[\"Sites\",\"Correlation\",\"p-value\"])\n",
    "corr_dicts = []\n",
    "p_dicts = []\n",
    "for af_sites in [\"US-Akn\",\"US-Cst\",\"US-NC2\",\"US-SP1\",\"US-xJE\",\"US-xTA\"]:\n",
    "    df = pd.read_csv(\"/work/tadesse/beichen/ForDRI/Data/New_Bowen_Ratio/ForDRI_BR/%s.csv\"%af_sites,index_col=0)\n",
    "    counts = df.shape[0]/52\n",
    "    corr_list = []\n",
    "    p_list = []\n",
    "    for i in range(int(counts)-1):\n",
    "        df_year = df.iloc[18+i*52:43+i*52,:].dropna(axis=0)\n",
    "        if df_year.shape[0]>3:\n",
    "            corr = pearsonr(df_year.loc[:, \"ForDRI\"].values, df_year.loc[:, \"stdBR\"].values)\n",
    "            corr_list.append(corr[0])\n",
    "            p_list.append(corr[1])\n",
    "        else:\n",
    "            continue\n",
    "    corr_dicts.append(corr_list)\n",
    "    p_dicts.append(p_list)\n",
    "    #df_corr[\"Correlation\"] = corr_list\n",
    "    #df_corr[\"p-value\"] = p_list\n",
    "    #df_corr[\"Sites\"] = sites_list\n",
    "    \n",
    "fig, ax = plt.subplots(figsize = (6,4))\n",
    "ax.boxplot(corr_dicts,labels = [\"US-Akn\",\"US-Cst\",\"US-NC2\",\"US-SP1\",\"US-xJE\",\"US-xTA\"])\n",
    "px = []\n",
    "py = []\n",
    "for i in range(6):\n",
    "    for idx, j in enumerate(p_dicts[i]):\n",
    "        if j < 0.05:\n",
    "            px.append(i+1)\n",
    "            py.append(corr_dicts[i][idx])\n",
    "ax.scatter(px, py,color=\"red\",edgecolor=\"black\",label = \"p-value < 0.05\",zorder=10,clip_on=False)\n",
    "ax.set_ylabel(\"Pearson correlation coefficient\")\n",
    "ax.set_ylim((-1,1))\n",
    "plt.legend()\n",
    "plt.savefig(\"/work/tadesse/beichen/ForDRI/Evaluation_Outputs/BR_ForDRI_Southeast.png\",dpi=300)"
   ]
  },
  {
   "cell_type": "markdown",
   "id": "29d40f47-5c77-4e52-95b7-80dafc7ead57",
   "metadata": {},
   "source": [
    "## Time-series plots of ForDRI and stdBR, growing seasons in shadow"
   ]
  },
  {
   "cell_type": "code",
   "execution_count": 7,
   "id": "2632eab4-a3ef-4d6e-9299-41afdac8ea66",
   "metadata": {},
   "outputs": [],
   "source": [
    "#growing season (tentative)\n",
    "gs_weeks = np.array([])\n",
    "for y in range(2003,2024):\n",
    "    gs_weeks = np.append(gs_weeks,np.arange(18,43,1)+(y-2003)*52)"
   ]
  },
  {
   "cell_type": "code",
   "execution_count": 9,
   "id": "c1f63483-b21c-40d4-ae25-7ef6825156e5",
   "metadata": {},
   "outputs": [],
   "source": [
    "corr_list = []\n",
    "for f in br_fordri_list:\n",
    "    fname = os.path.basename(f)[:-4]\n",
    "    df = pd.read_csv(f,index_col=0)\n",
    "    fig = plt.figure(figsize=(30,6))\n",
    "    ax1 = fig.add_subplot(111)\n",
    "    for y in range(2003,2024):\n",
    "        for w in range(1,53):\n",
    "            yyyyww=y*100+w\n",
    "            if yyyyww not in df.index:\n",
    "                df.loc[yyyyww,:]=[np.nan,np.nan]\n",
    "    df.sort_index()\n",
    "    ax1.plot(np.arange(0,1092,1), df[\"ForDRI\"].values, marker = 'o',color=\"red\", label=\"ForDRI\")\n",
    "    #ax1.xaxis.set_major_locator(mdates.DayLocator(interval=30))\n",
    "    fig.autofmt_xdate(rotation=90)\n",
    "    ax1.set_ylim(-3.5,3.5)\n",
    "    ax1.set_ylabel(\"ForDRI\",fontsize=12)\n",
    "    ax1.set_xlabel(\"Time (Weeks)\", fontsize=12)\n",
    "    plt.yticks(fontsize=12)\n",
    "    ax1.set_title(fname,fontsize=14)\n",
    "    for y in range(2003,2024):\n",
    "        gs_weeks = np.array([18,43])+(y-2003)*52\n",
    "        ax1.fill_between(gs_weeks,-3.5, 3.5,facecolor='red', alpha=0.1)\n",
    "    ax1.fill_between([0,0],-3.5, 3.5,facecolor='red', alpha=0.1, label = 'Growing Season')\n",
    "    ax2 = ax1.twinx()\n",
    "    ax2.plot(np.arange(0,1092,1), df[\"stdBR\"].values, marker = 'o', color=\"blue\",label=\"STD Bowen Ratio\")\n",
    "    ax2.set_ylim(-3.5,3.5)\n",
    "    #ax2.tick_params(fontsize=12)\n",
    "    ax2.set_ylabel(\"Standardized Bowen Ratio\",fontsize=12)\n",
    "    #ax1.text(25,-2.5,\"r = {0:.2f}, p = {1:.2e}\".format(*[corr[0],corr[1]]),fontsize=12, horizontalalignment='right', verticalalignment='bottom')\n",
    "    #df_growing_season = df.loc[df[\"Time\"]==str(y)+\"18\":df[\"Time\"]==str(y)+\"40\",:]\n",
    "    corr_list.append(corr[0])\n",
    "    plt.grid(axis=\"both\")\n",
    "    plt.xticks(np.arange(0,1092,14),df.index.values[6::14])\n",
    "    plt.xticks(fontsize=12)\n",
    "    plt.yticks(fontsize=12)\n",
    "    fig.legend(ncol=3, loc='lower center')\n",
    "    fig.savefig(\"/work/tadesse/beichen/ForDRI/Evaluation_Outputs/ForDRI_BR_time_series/\"+fname+'.png', dpi = 300)\n",
    "    plt.close(fig)\n",
    "    #fig.show()"
   ]
  }
 ],
 "metadata": {
  "kernelspec": {
   "display_name": "mywork",
   "language": "python",
   "name": "python3"
  },
  "language_info": {
   "codemirror_mode": {
    "name": "ipython",
    "version": 3
   },
   "file_extension": ".py",
   "mimetype": "text/x-python",
   "name": "python",
   "nbconvert_exporter": "python",
   "pygments_lexer": "ipython3",
   "version": "3.9.18"
  },
  "vscode": {
   "interpreter": {
    "hash": "f7fce67f7bf81c6c01801418c0740e5ed8883a3338285553951947b9d9952603"
   }
  }
 },
 "nbformat": 4,
 "nbformat_minor": 5
}
